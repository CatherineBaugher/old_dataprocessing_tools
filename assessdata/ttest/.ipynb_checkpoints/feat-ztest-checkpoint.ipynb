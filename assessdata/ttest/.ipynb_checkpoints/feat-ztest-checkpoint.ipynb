{
 "cells": [
  {
   "cell_type": "code",
   "execution_count": 4,
   "metadata": {},
   "outputs": [
    {
     "name": "stdout",
     "output_type": "stream",
     "text": [
      "BRAF_GRCh37_7:140453136-140453136_Missense-Mutation-SNP-A-A-T_Missense-Mutation-SNP-A-T-T 8.41076831389e-06\n",
      "ACVR2A_GRCh37_2:148683686-148683693_Frame-Shift-Del-DEL-AAAAAAAA---- 0.000370590766428\n",
      "TGFBR2_GRCh37_3:30691872-30691881_Frame-Shift-Del-DEL-AAAAAAAAAA---- 0.00098287891571\n",
      "SEC63_GRCh37_6:108214755-108214764_Frame-Shift-Del-DEL-TTTTTTTTTT---- 0.0052935074322\n",
      "MSH3_GRCh37_5:79970915-79970922_Frame-Shift-Del-DEL-AAAAAAAA---- 0.0052935074322\n",
      "GRB14_GRCh37_2:165365288-165365296_In-Frame-Del-DEL-TTTTTTTTT---- 0.00731383942721\n",
      "RAD50_GRCh37_5:131931452-131931460_In-Frame-Del-DEL-AAAAAAAAA---- 0.0143256505009\n",
      "MBD4_GRCh37_3:129155548-129155557_Frame-Shift-Del-DEL-TTTTTTTTTT---- 0.0172864552233\n",
      "AIM2_GRCh37_1:159032487-159032496_Frame-Shift-Del-DEL-TTTTTTTTTT---- 0.024913948184\n",
      "PRDM2_GRCh37_1:14108749-14108757_In-Frame-Del-DEL-AAAAAAAAA---- 0.0277001315885\n",
      "HMMR_GRCh37_5:162917426-162917434_In-Frame-Del-DEL-AAAAAAAAA---- 0.0277001315885\n",
      "ATR_GRCh37_3:142274740-142274749_Frame-Shift-Del-DEL-TTTTTTTTTT---- 0.0531760265783\n",
      "MSH6_GRCh37_2:48030640-48030647_Frame-Shift-Del-DEL-CCCCCCCC---- 0.0830987512825\n",
      "KRAS_GRCh37_12:25398284-25398284_Missense-Mutation-SNP-C-T-T 0.0924606608906\n",
      "TCF7L2_GRCh37_10:114925317-114925325_In-Frame-Del-DEL-AAAAAAAAA---- 0.0934149690213\n",
      "PIK3CA_GRCh37_3:178952085-178952085_Missense-Mutation-SNP-A-G-G 0.124708724094\n",
      "CASP5_GRCh37_11:104878041-104878050_Frame-Shift-Del-DEL-TTTTTTTTTT---- 0.180909383926\n"
     ]
    }
   ],
   "source": [
    "import csv\n",
    "from numpy import *\n",
    "import itertools\n",
    "from operator import itemgetter\n",
    "from scipy import stats\n",
    "\n",
    "#load the data set\n",
    "inpdat = \"../../../3ormoreDATLOW.csv\"\n",
    "with open(inpdat,'r') as f:\n",
    "    it = csv.reader(f)\n",
    "    listit = list(it)\n",
    "\n",
    "#build data\n",
    "eachfeat = []\n",
    "store = {}\n",
    "for y in range(1,len(listit[0])-1):\n",
    "    foreground = []\n",
    "    background = []\n",
    "    for x in range(1,len(listit)):\n",
    "        if(float(listit[x][len(listit[0])-1]) == 1.0): #put in foreground list\n",
    "            if(float(listit[x][y]) == 1.0): #occurs\n",
    "                foreground.append(1)\n",
    "            else: #doesn't occur\n",
    "                foreground.append(0)\n",
    "        else: #put in background list\n",
    "            if(float(listit[x][y]) == 1.0): #occurs\n",
    "                background.append(1)\n",
    "            else: #doesn't occur\n",
    "                background.append(0)\n",
    "    eachfeat.append((foreground,background)) #collect the two vectors\n",
    "    \n",
    "for i in range(0,len(eachfeat)):\n",
    "    store[listit[0][i+1]] = stats.ttest_ind(eachfeat[i][0],eachfeat[i][1],equal_var=False)[1]\n",
    "\n",
    "upright = sorted(store.items(),key=itemgetter(1))\n",
    "for key,value in upright:\n",
    "    print(key,value)"
   ]
  },
  {
   "cell_type": "code",
   "execution_count": null,
   "metadata": {},
   "outputs": [],
   "source": [
    "ttest = [[\"feature\",\"p-value\"]]"
   ]
  }
 ],
 "metadata": {
  "kernelspec": {
   "display_name": "Python 3",
   "language": "python",
   "name": "python3"
  },
  "language_info": {
   "codemirror_mode": {
    "name": "ipython",
    "version": 3
   },
   "file_extension": ".py",
   "mimetype": "text/x-python",
   "name": "python",
   "nbconvert_exporter": "python",
   "pygments_lexer": "ipython3",
   "version": "3.6.3"
  }
 },
 "nbformat": 4,
 "nbformat_minor": 2
}
