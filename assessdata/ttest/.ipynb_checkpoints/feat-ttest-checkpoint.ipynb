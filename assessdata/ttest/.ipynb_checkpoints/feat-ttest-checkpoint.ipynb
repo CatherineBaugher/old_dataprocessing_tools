{
 "cells": [
  {
   "cell_type": "code",
   "execution_count": null,
   "metadata": {},
   "outputs": [],
   "source": [
    "import csv\n",
    "from numpy import *\n",
    "import itertools\n",
    "\n",
    "#load the data set\n",
    "inpdat = \"../../../3ormoreDATLOW.csv\"\n",
    "with open(inpdat,'r') as f:\n",
    "    it = csv.reader(f)\n",
    "    listit = list(it)\n",
    "    \n",
    "eachfeat = []\n",
    "for y in range(1,len(listit[0])-1):\n",
    "    foreground = []\n",
    "    background = []\n",
    "    for x in range(1,len(listit)):\n",
    "        if(float(listit[x][len(listit[0])-1]) == 1.0): #put in foreground list\n",
    "            if(float(listit[x][y]) == 1.0): #occurs\n",
    "                foreground.append(1)\n",
    "            else: #doesn't occur\n",
    "                foreground.append(0)\n",
    "        else: #put in background list\n",
    "            if(float(listit[x][len(listit[0])-1]) == 1.0): #put in foreground list\n",
    "            if(float(listit[x][y]) == 1.0): #occurs\n",
    "                background.append(1)\n",
    "            else: #doesn't occur\n",
    "                background.append(0)\n",
    "    eachfeat.append((foreground,background)) #collect the two vectors\n",
    "ttest = [[\"feature\",\"p-value\"]]\n",
    "for i in eachfeat"
   ]
  }
 ],
 "metadata": {
  "kernelspec": {
   "display_name": "Python 3",
   "language": "python",
   "name": "python3"
  },
  "language_info": {
   "codemirror_mode": {
    "name": "ipython",
    "version": 3
   },
   "file_extension": ".py",
   "mimetype": "text/x-python",
   "name": "python",
   "nbconvert_exporter": "python",
   "pygments_lexer": "ipython3",
   "version": "3.6.3"
  }
 },
 "nbformat": 4,
 "nbformat_minor": 2
}
