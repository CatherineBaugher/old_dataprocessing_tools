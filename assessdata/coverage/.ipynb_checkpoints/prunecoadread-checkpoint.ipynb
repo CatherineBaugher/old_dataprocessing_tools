{
 "cells": [
  {
   "cell_type": "code",
   "execution_count": 1,
   "metadata": {},
   "outputs": [
    {
     "data": {
      "text/plain": [
       "7"
      ]
     },
     "execution_count": 1,
     "metadata": {},
     "output_type": "execute_result"
    }
   ],
   "source": [
    "#gets rid of features w exactly 1 sample, and 25% or more of background\n",
    "import os\n",
    "import csv\n",
    "\n",
    "with open(\"../../selectedfeatures3withcimplow.csv\",'r') as f:\n",
    "        it = csv.reader(f)\n",
    "        listit = list(it)\n",
    "\n",
    "keep = [0] #stores mutations we're okay with\n",
    "fal = 0\n",
    "searchingfor = ['TCGA-AG-3600', 'TCGA-AG-A02X']\n",
    "selected = ['MBD4_GRCh37_3:129155548-129155557_Frame-Shift-Del-DEL-TTTTTTTTTT----',\n",
    "'PRDM2_GRCh37_1:14108749-14108757_In-Frame-Del-DEL-AAAAAAAAA----',\n",
    "'RAD50_GRCh37_5:131931452-131931460_In-Frame-Del-DEL-AAAAAAAAA----',\n",
    "'BRAF_GRCh37_7:140453136-140453136_Missense-Mutation-SNP-A-A-T_Missense-Mutation-SNP-A-T-T',\n",
    "'MSH3_GRCh37_5:79970915-79970922_Frame-Shift-Del-DEL-AAAAAAAA----',\n",
    "'AKR1B10_GRCh37_7:134221874-134221874_Silent-SNP-G-A-A',\n",
    "'KRAS_GRCh37_12:25398284-25398284_Missense-Mutation-SNP-C-T-T_Missense-Mutation-SNP-C-A-A'\n",
    "]\n",
    "found = set()\n",
    "results = [[\"Feature\",\"TP\",\"FP\",\"TN\",\"FN\",\"CIMPLOW\"]]\n",
    "#get num total and neg samples\n",
    "for x in range(1,len(listit)):\n",
    "    if float(listit[x][len(listit[0])-1]) == -1.0:\n",
    "        fal += 1\n",
    "for y in range(1, len(listit[0])-1):\n",
    "    #tally up occurences\n",
    "    TP = 0\n",
    "    FP = 0\n",
    "    TN = 0\n",
    "    FN = 0\n",
    "    CL = 0\n",
    "    if(listit[0][y] == \"AKR1B10_GRCh37_7:134221874-134221874_Silent_SNP_G_A_A\"):\n",
    "        print(\"TEST\")\n",
    "    captured = []\n",
    "    hashprime = False\n",
    "    for x in range(1,len(listit)):\n",
    "        if(float(listit[x][y]) == 1.0):\n",
    "            if(listit[x][0] in searchingfor):\n",
    "                hashprime = True\n",
    "                captured.append(listit[x][0])\n",
    "            if (float(listit[x][len(listit[0])-1]) == -1.0):\n",
    "                FP += 1\n",
    "            elif (float(listit[x][len(listit[0])-1]) == 2.0):\n",
    "                CL += 1\n",
    "            else:\n",
    "                TP += 1\n",
    "        else:\n",
    "            if (float(listit[x][len(listit[0])-1]) == -1.0):\n",
    "                TN += 1\n",
    "            else:\n",
    "                FN += 1\n",
    "    #results.append([listit[0][y],TP,FP,TN,FN,CL])\n",
    "\n",
    "    if(listit[0][y] in selected):\n",
    "        keep.append(y)\n",
    "        results.append([listit[0][y],TP,FP,TN,FN,CL])\n",
    "        for samp in captured:\n",
    "            found.add(samp)\n",
    "keep.append(len(listit[0])-1)\n",
    "len(keep)-2"
   ]
  },
  {
   "cell_type": "code",
   "execution_count": 2,
   "metadata": {},
   "outputs": [
    {
     "name": "stdout",
     "output_type": "stream",
     "text": [
      "\n",
      "BRAF_GRCh37_7:140453136-140453136_Missense-Mutation-SNP-A-A-T_Missense-Mutation-SNP-A-T-T\n",
      "MBD4_GRCh37_3:129155548-129155557_Frame-Shift-Del-DEL-TTTTTTTTTT----\n",
      "PRDM2_GRCh37_1:14108749-14108757_In-Frame-Del-DEL-AAAAAAAAA----\n",
      "KRAS_GRCh37_12:25398284-25398284_Missense-Mutation-SNP-C-T-T_Missense-Mutation-SNP-C-A-A\n",
      "RAD50_GRCh37_5:131931452-131931460_In-Frame-Del-DEL-AAAAAAAAA----\n",
      "MSH3_GRCh37_5:79970915-79970922_Frame-Shift-Del-DEL-AAAAAAAA----\n",
      "AKR1B10_GRCh37_7:134221874-134221874_Silent-SNP-G-A-A\n",
      "class\n"
     ]
    },
    {
     "data": {
      "text/plain": [
       "{'TCGA-AG-A02X'}"
      ]
     },
     "execution_count": 2,
     "metadata": {},
     "output_type": "execute_result"
    }
   ],
   "source": [
    "#print new features\n",
    "for y in keep:\n",
    "    print(listit[0][y])\n",
    "\n",
    "found"
   ]
  },
  {
   "cell_type": "code",
   "execution_count": 4,
   "metadata": {},
   "outputs": [],
   "source": [
    "newdatset = [[row[c] for c in keep] for row in listit]\n",
    "\n",
    "with open(\"../../selectedfeaturesDATyichao.csv\",\"w\") as fun:\n",
    "    writer = csv.writer(fun)\n",
    "    writer.writerows(newdatset)\n",
    "\n",
    "\n",
    "#output stats of accuracy filter\n",
    "with open(\"./summarystatsDAT4greed.csv\",\"w\") as fun:\n",
    "    writer = csv.writer(fun)\n",
    "    writer.writerows(results)\n"
   ]
  },
  {
   "cell_type": "raw",
   "metadata": {},
   "source": []
  }
 ],
 "metadata": {
  "kernelspec": {
   "display_name": "Python 3",
   "language": "python",
   "name": "python3"
  },
  "language_info": {
   "codemirror_mode": {
    "name": "ipython",
    "version": 3
   },
   "file_extension": ".py",
   "mimetype": "text/x-python",
   "name": "python",
   "nbconvert_exporter": "python",
   "pygments_lexer": "ipython3",
   "version": "3.6.3"
  }
 },
 "nbformat": 4,
 "nbformat_minor": 2
}
