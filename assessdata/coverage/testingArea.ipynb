{
 "cells": [
  {
   "cell_type": "code",
   "execution_count": 1,
   "metadata": {},
   "outputs": [
    {
     "name": "stdout",
     "output_type": "stream",
     "text": [
      "col # of old: 70\n"
     ]
    }
   ],
   "source": [
    "#looking at the 18 features from >= 4 CIMP+ occurrences\n",
    "import os\n",
    "import csv\n",
    "import statistics\n",
    "\n",
    "inpdat = \"../../../prunedcoadreadDAT2.csv\"\n",
    "\n",
    "with open(inpdat,'r') as f:\n",
    "    it = csv.reader(f)\n",
    "    listit = list(it)\n",
    "\n",
    "print(\"col # of old:\",len(listit[0]))"
   ]
  },
  {
   "cell_type": "code",
   "execution_count": 2,
   "metadata": {},
   "outputs": [
    {
     "name": "stdout",
     "output_type": "stream",
     "text": [
      "68 42\n",
      "2\n"
     ]
    },
    {
     "data": {
      "text/plain": [
       "[]"
      ]
     },
     "execution_count": 2,
     "metadata": {},
     "output_type": "execute_result"
    }
   ],
   "source": [
    "endcol = len(listit[0])-1\n",
    "endrow = len(listit)\n",
    "\n",
    "keep = [0]\n",
    "threeormore3neg = []\n",
    "model = []\n",
    "fptot = tptot = 0\n",
    "covered = [] #covered critical samples\n",
    "captured = []\n",
    "seeking = [\"KRAS_GRCh37_12:25398284-25398284\",\"BRAF_GRCh37_7:140453136-140453136\"]\n",
    "for y in range(1,endcol):\n",
    "    TPcount = 0\n",
    "    FPcount = 0\n",
    "    for x in range(1,endrow):\n",
    "        if(float(listit[x][y]) == 1.0):\n",
    "            if(float(listit[x][endcol]) == 1.0):\n",
    "                TPcount += 1\n",
    "            else:\n",
    "                FPcount += 1\n",
    "    if(FPcount <= 0):\n",
    "        fptot += 1\n",
    "    if(TPcount >= 2):\n",
    "        tptot += 1\n",
    "    if (TPcount >= 10 and FPcount <= 5):\n",
    "        keep.append(y)\n",
    "        threeormore3neg.append(y) #list of indices we're looking at\n",
    "        model.append(listit[0][y])\n",
    "        \n",
    "    #grab features from seeking\n",
    "    pieces = listit[0][y].split(\"_\")\n",
    "    if(pieces[0] + \"_\" + pieces[1] + \"_\" + pieces[2] in seeking):\n",
    "        captured.append(y)\n",
    "keep.append(len(listit[0])-1)\n",
    "print(tptot,fptot)\n",
    "print(str(len(threeormore3neg)))\n",
    "covered"
   ]
  },
  {
   "cell_type": "code",
   "execution_count": 3,
   "metadata": {},
   "outputs": [
    {
     "data": {
      "text/plain": [
       "[['Feature',\n",
       "  'True Positive/CIMP+ Cover',\n",
       "  'False Postive',\n",
       "  'True Negative',\n",
       "  'False Negative',\n",
       "  'Accuracy'],\n",
       " ['BRAF_GRCh37_7:140453136-140453136_Missense-Mutation-SNP-A-A-T_Missense-Mutation-SNP-A-T-T',\n",
       "  16,\n",
       "  4,\n",
       "  38,\n",
       "  14,\n",
       "  0.75],\n",
       " ['ACVR2A_GRCh37_2:148683686-148683693_Frame-Shift-Del-DEL-AAAAAAAA----',\n",
       "  12,\n",
       "  5,\n",
       "  37,\n",
       "  18,\n",
       "  0.6805555555555556]]"
      ]
     },
     "execution_count": 3,
     "metadata": {},
     "output_type": "execute_result"
    }
   ],
   "source": [
    "results = [[\"Feature\",\"True Positive/CIMP+ Cover\",\"False Postive\",\"True Negative\",\"False Negative\",\"Accuracy\"]]\n",
    "for index in threeormore3neg:\n",
    "    truepos = trueneg = falsepos = falseneg = 0\n",
    "    for x in range(1,endrow):\n",
    "        if(float(listit[x][endcol]) == 1.0):\n",
    "            if(float(listit[x][index]) == 1.0):\n",
    "                truepos += 1\n",
    "            elif(float(listit[x][index]) == 0.0):\n",
    "                falseneg += 1\n",
    "        elif(float(listit[x][endcol]) == -1.0):\n",
    "            if(float(listit[x][index]) == 0.0):\n",
    "                trueneg += 1\n",
    "            elif(float(listit[x][index]) == 1.0):\n",
    "                falsepos += 1\n",
    "            else:\n",
    "                print(\"ERROR\")\n",
    "        else:\n",
    "            print(\"ERROR\")\n",
    "    accuracy = 1 - ((falseneg+falsepos)/(trueneg+falseneg+falsepos+truepos))\n",
    "    newrow = [listit[0][index],truepos,falsepos,trueneg,falseneg,accuracy]\n",
    "    results.append(newrow)\n",
    "    \n",
    "results"
   ]
  },
  {
   "cell_type": "code",
   "execution_count": 4,
   "metadata": {},
   "outputs": [
    {
     "name": "stdout",
     "output_type": "stream",
     "text": [
      "[1]False Positives: 8\n",
      "[1]False Negatives: 10\n",
      "[1]True Positives: 20\n",
      "[1]True Negatives: 34\n",
      "[1]Proportion of false positives: 0.1095890410958904\n",
      "[1]Proportion of false negatives:0.136986301369863\n",
      "[1]Accuracy: 0.75\n",
      "[1]Error rate: 0.25\n",
      "[1]Sensitivity: 0.6666666666666666\n",
      "[1]Specificity: 0.8095238095238095\n"
     ]
    },
    {
     "data": {
      "text/plain": [
       "['TCGA-AA-3837',\n",
       " 'TCGA-AA-3870',\n",
       " 'TCGA-AA-3941',\n",
       " 'TCGA-AA-3994',\n",
       " 'TCGA-AA-A00A',\n",
       " 'TCGA-AA-A00E',\n",
       " 'TCGA-AA-A029',\n",
       " 'TCGA-AA-A02O',\n",
       " 'TCGA-AA-A03F',\n",
       " 'TCGA-AG-3575']"
      ]
     },
     "execution_count": 4,
     "metadata": {},
     "output_type": "execute_result"
    }
   ],
   "source": [
    "#looking at all features overall\n",
    "def runGreedyOnTest(model, testdata):\n",
    "    numrows = len(testdata)\n",
    "    numcols = len(testdata[0])-1\n",
    "    results = {}\n",
    "    for x in range(0, numrows):\n",
    "        for y in range(0, numcols): #program won't be able to see background/foreground\n",
    "            if (testdata[x][y] == \"1.0\"):\n",
    "                if (testdata[0][y] in model):\n",
    "                    results[testdata[x][0]] = \"1.0\"\n",
    "    for x in range(0,numrows):\n",
    "        if(testdata[x][0] not in results):\n",
    "            results[testdata[x][0]] = \"-1.0\"\n",
    "    return results\n",
    "def evalResults(dictofseqs,givendat,picked,notpicked,i):\n",
    "    falsepos = falseneg = truepos = trueneg = 0\n",
    "    for x in range (1,len(givendat)):\n",
    "        if(givendat[x][0] in dictofseqs):\n",
    "            if(dictofseqs[givendat[x][0]] != givendat[x][len(givendat[0])-1]):\n",
    "                if(dictofseqs[givendat[x][0]] == \"1.0\"):\n",
    "                    falsepos += 1\n",
    "                else:\n",
    "                    falseneg += 1\n",
    "                    if givendat[x][0] not in notpicked:\n",
    "                        notpicked.append(givendat[x][0])\n",
    "            else:\n",
    "                if(dictofseqs[givendat[x][0]] == \"1.0\"):\n",
    "                    truepos += 1\n",
    "                    if givendat[x][0] not in picked:\n",
    "                        picked.append(givendat[x][0])\n",
    "                else:\n",
    "                    trueneg += 1\n",
    "    tot = len(dictofseqs)\n",
    "    overallerror = (falseneg+falsepos)/(trueneg+falseneg+falsepos+truepos)\n",
    "    sens = truepos/(truepos+falseneg)\n",
    "    spec = trueneg/(trueneg+falsepos)\n",
    "    k = str(i)\n",
    "    print(\"[\" + k + \"]\" + \"False Positives: \" + str(falsepos))\n",
    "    print(\"[\" + k + \"]\" + \"False Negatives: \" + str(falseneg))\n",
    "    print(\"[\" + k + \"]\" + \"True Positives: \" + str(truepos))\n",
    "    print(\"[\" + k + \"]\" + \"True Negatives: \" + str(trueneg))\n",
    "    print(\"[\" + k + \"]\" + \"Proportion of false positives: \" + str((falsepos/tot)))\n",
    "    print(\"[\" + k + \"]\" + \"Proportion of false negatives:\" + str((falseneg/tot)))\n",
    "    print(\"[\" + k + \"]\" + \"Accuracy: \" + str((1-overallerror)))\n",
    "    print(\"[\" + k + \"]\" + \"Error rate: \" + str(overallerror))\n",
    "    print(\"[\" + k + \"]\" + \"Sensitivity: \" + str(sens))\n",
    "    print(\"[\" + k + \"]\" + \"Specificity: \" + str(spec))\n",
    "    \n",
    "picked = []\n",
    "notpicked = []\n",
    "dictofseqs = runGreedyOnTest(model,listit)\n",
    "evalResults(dictofseqs,listit,picked,notpicked,1)\n",
    "notpicked"
   ]
  },
  {
   "cell_type": "code",
   "execution_count": 5,
   "metadata": {},
   "outputs": [],
   "source": [
    "#output stats of accuracy filter\n",
    "with open(\"./less1.csv\",\"w\") as fun:\n",
    "    writer = csv.writer(fun)\n",
    "    writer.writerows(results)\n",
    "    \n",
    "newdatset = [[row[c] for c in keep] for row in listit]\n",
    "with open(\"../../featurefilter/138feats.csv\",\"w\") as fun:\n",
    "    writer = csv.writer(fun)\n",
    "    writer.writerows(newdatset)"
   ]
  }
 ],
 "metadata": {
  "kernelspec": {
   "display_name": "Python 3",
   "language": "python",
   "name": "python3"
  },
  "language_info": {
   "codemirror_mode": {
    "name": "ipython",
    "version": 3
   },
   "file_extension": ".py",
   "mimetype": "text/x-python",
   "name": "python",
   "nbconvert_exporter": "python",
   "pygments_lexer": "ipython3",
   "version": "3.6.3"
  }
 },
 "nbformat": 4,
 "nbformat_minor": 2
}
