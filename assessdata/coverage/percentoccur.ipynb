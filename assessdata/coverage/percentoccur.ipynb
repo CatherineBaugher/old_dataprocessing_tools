{
 "cells": [
  {
   "cell_type": "code",
   "execution_count": 1,
   "metadata": {},
   "outputs": [
    {
     "name": "stdout",
     "output_type": "stream",
     "text": [
      "Missense\n",
      "Missense\n",
      "Missense\n",
      "Missense\n",
      "Missense\n",
      "Missense\n",
      "Missense\n",
      "Missense\n",
      "Missense\n",
      "Missense\n",
      "Missense\n",
      "Missense\n",
      "Missense\n",
      "Missense\n",
      "Missense\n",
      "Missense\n"
     ]
    },
    {
     "data": {
      "text/plain": [
       "0.5"
      ]
     },
     "execution_count": 1,
     "metadata": {},
     "output_type": "execute_result"
    }
   ],
   "source": [
    "import os\n",
    "import csv\n",
    "\n",
    "with open(\"../../../coadreadDATb4.csv\",'r') as f:\n",
    "    it = csv.reader(f)\n",
    "    listit = list(it)\n",
    "\n",
    "SEARCH = \"BRAF\"\n",
    "mutation = \"Silent\"\n",
    "gotone = 0\n",
    "\n",
    "for x in range(1,len(listit)):\n",
    "    for y in range(1,len(listit[0])-1):\n",
    "        if(float(listit[x][y]) == 1.0 and float(listit[x][len(listit[0])-1]) == 1.0):\n",
    "            if(listit[0][y].split('_')[0] == SEARCH):\n",
    "                print(listit[0][y].split('_')[3])\n",
    "                gotone += 1\n",
    "                break\n",
    "gotone/32"
   ]
  },
  {
   "cell_type": "code",
   "execution_count": 5,
   "metadata": {},
   "outputs": [],
   "source": [
    "#search for sample name\n",
    "SEARCH = \"TCGA-A6-6140\"\n",
    "for row in listit:\n",
    "    if(row[0] == SEARCH):\n",
    "        print(listit[x][len(listit[0])-1])"
   ]
  },
  {
   "cell_type": "code",
   "execution_count": null,
   "metadata": {},
   "outputs": [],
   "source": []
  }
 ],
 "metadata": {
  "kernelspec": {
   "display_name": "Python 3",
   "language": "python",
   "name": "python3"
  },
  "language_info": {
   "codemirror_mode": {
    "name": "ipython",
    "version": 3
   },
   "file_extension": ".py",
   "mimetype": "text/x-python",
   "name": "python",
   "nbconvert_exporter": "python",
   "pygments_lexer": "ipython3",
   "version": "3.6.3"
  }
 },
 "nbformat": 4,
 "nbformat_minor": 2
}
