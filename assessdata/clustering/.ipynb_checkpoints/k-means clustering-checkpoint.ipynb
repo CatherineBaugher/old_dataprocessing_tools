{
 "cells": [
  {
   "cell_type": "code",
   "execution_count": 1,
   "metadata": {},
   "outputs": [
    {
     "data": {
      "text/plain": [
       "array([['1.0', '0.0', '0.0', '0.0', '0.0', '0.0', '0.0', '0.0', '0.0',\n",
       "        '0.0', '0.0', '0.0', '0.0', '0.0'],\n",
       "       ['1.0', '1.0', '1.0', '1.0', '1.0', '1.0', '0.0', '0.0', '0.0',\n",
       "        '0.0', '0.0', '0.0', '0.0', '0.0'],\n",
       "       ['1.0', '0.0', '0.0', '0.0', '0.0', '1.0', '0.0', '1.0', '0.0',\n",
       "        '0.0', '0.0', '0.0', '0.0', '0.0'],\n",
       "       ['0.0', '0.0', '0.0', '0.0', '0.0', '0.0', '0.0', '1.0', '1.0',\n",
       "        '0.0', '0.0', '0.0', '0.0', '0.0'],\n",
       "       ['1.0', '0.0', '0.0', '1.0', '1.0', '1.0', '0.0', '0.0', '0.0',\n",
       "        '1.0', '0.0', '0.0', '0.0', '0.0'],\n",
       "       ['1.0', '0.0', '0.0', '0.0', '0.0', '0.0', '0.0', '1.0', '0.0',\n",
       "        '0.0', '0.0', '0.0', '0.0', '0.0'],\n",
       "       ['1.0', '0.0', '0.0', '0.0', '0.0', '0.0', '0.0', '0.0', '0.0',\n",
       "        '0.0', '0.0', '0.0', '0.0', '0.0'],\n",
       "       ['0.0', '1.0', '1.0', '0.0', '0.0', '1.0', '0.0', '0.0', '1.0',\n",
       "        '0.0', '1.0', '1.0', '0.0', '0.0'],\n",
       "       ['0.0', '1.0', '1.0', '0.0', '0.0', '0.0', '0.0', '0.0', '1.0',\n",
       "        '0.0', '0.0', '1.0', '0.0', '0.0'],\n",
       "       ['1.0', '1.0', '0.0', '0.0', '0.0', '1.0', '1.0', '1.0', '1.0',\n",
       "        '0.0', '1.0', '1.0', '1.0', '1.0'],\n",
       "       ['1.0', '0.0', '0.0', '0.0', '0.0', '0.0', '0.0', '0.0', '1.0',\n",
       "        '0.0', '1.0', '0.0', '1.0', '0.0'],\n",
       "       ['1.0', '1.0', '0.0', '0.0', '0.0', '1.0', '0.0', '0.0', '1.0',\n",
       "        '0.0', '0.0', '1.0', '0.0', '0.0'],\n",
       "       ['0.0', '0.0', '0.0', '0.0', '0.0', '0.0', '0.0', '0.0', '0.0',\n",
       "        '0.0', '0.0', '0.0', '0.0', '0.0'],\n",
       "       ['0.0', '0.0', '0.0', '0.0', '1.0', '0.0', '0.0', '0.0', '1.0',\n",
       "        '1.0', '0.0', '1.0', '0.0', '0.0'],\n",
       "       ['0.0', '0.0', '0.0', '0.0', '0.0', '0.0', '1.0', '0.0', '0.0',\n",
       "        '0.0', '0.0', '0.0', '0.0', '0.0'],\n",
       "       ['1.0', '1.0', '1.0', '0.0', '0.0', '0.0', '0.0', '0.0', '1.0',\n",
       "        '1.0', '0.0', '1.0', '0.0', '0.0'],\n",
       "       ['0.0', '0.0', '0.0', '0.0', '0.0', '0.0', '1.0', '0.0', '0.0',\n",
       "        '0.0', '0.0', '0.0', '0.0', '0.0'],\n",
       "       ['1.0', '0.0', '0.0', '1.0', '1.0', '1.0', '0.0', '1.0', '1.0',\n",
       "        '1.0', '0.0', '1.0', '1.0', '1.0'],\n",
       "       ['1.0', '0.0', '0.0', '0.0', '0.0', '0.0', '0.0', '0.0', '1.0',\n",
       "        '1.0', '1.0', '1.0', '1.0', '1.0'],\n",
       "       ['0.0', '0.0', '0.0', '0.0', '0.0', '0.0', '1.0', '0.0', '0.0',\n",
       "        '0.0', '0.0', '0.0', '0.0', '0.0'],\n",
       "       ['0.0', '0.0', '0.0', '0.0', '0.0', '0.0', '0.0', '0.0', '0.0',\n",
       "        '1.0', '0.0', '0.0', '0.0', '0.0'],\n",
       "       ['1.0', '0.0', '0.0', '0.0', '0.0', '0.0', '0.0', '0.0', '0.0',\n",
       "        '0.0', '0.0', '0.0', '0.0', '0.0'],\n",
       "       ['0.0', '0.0', '0.0', '1.0', '0.0', '0.0', '0.0', '0.0', '0.0',\n",
       "        '0.0', '0.0', '1.0', '0.0', '0.0'],\n",
       "       ['1.0', '1.0', '0.0', '1.0', '0.0', '0.0', '0.0', '0.0', '0.0',\n",
       "        '1.0', '0.0', '0.0', '1.0', '0.0'],\n",
       "       ['1.0', '0.0', '1.0', '0.0', '0.0', '1.0', '0.0', '0.0', '1.0',\n",
       "        '0.0', '0.0', '1.0', '0.0', '0.0'],\n",
       "       ['1.0', '0.0', '0.0', '0.0', '1.0', '0.0', '0.0', '1.0', '1.0',\n",
       "        '1.0', '0.0', '1.0', '1.0', '1.0'],\n",
       "       ['0.0', '0.0', '0.0', '0.0', '0.0', '0.0', '0.0', '0.0', '0.0',\n",
       "        '0.0', '0.0', '0.0', '0.0', '0.0'],\n",
       "       ['0.0', '0.0', '0.0', '0.0', '0.0', '0.0', '1.0', '0.0', '0.0',\n",
       "        '0.0', '0.0', '0.0', '0.0', '0.0'],\n",
       "       ['0.0', '0.0', '0.0', '0.0', '0.0', '0.0', '1.0', '0.0', '0.0',\n",
       "        '0.0', '0.0', '0.0', '0.0', '0.0'],\n",
       "       ['0.0', '0.0', '1.0', '0.0', '0.0', '0.0', '0.0', '0.0', '0.0',\n",
       "        '0.0', '0.0', '0.0', '0.0', '0.0'],\n",
       "       ['0.0', '0.0', '0.0', '0.0', '0.0', '0.0', '0.0', '0.0', '0.0',\n",
       "        '0.0', '0.0', '0.0', '0.0', '0.0'],\n",
       "       ['0.0', '0.0', '0.0', '0.0', '0.0', '0.0', '0.0', '0.0', '0.0',\n",
       "        '0.0', '0.0', '0.0', '0.0', '0.0']],\n",
       "      dtype='<U3')"
      ]
     },
     "execution_count": 1,
     "metadata": {},
     "output_type": "execute_result"
    }
   ],
   "source": [
    "from matplotlib import pyplot as plt\n",
    "import matplotlib as mpl\n",
    "from scipy.cluster.hierarchy import dendrogram, linkage, set_link_color_palette\n",
    "import numpy as np\n",
    "from matplotlib.pyplot import cm\n",
    "import csv\n",
    "from scipy.cluster.hierarchy import cophenet\n",
    "from scipy.spatial.distance import pdist\n",
    "\n",
    "# some setting for this notebook to actually show the graphs inline\n",
    "# you probably won't need this\n",
    "%matplotlib inline\n",
    "np.set_printoptions(precision=5, suppress=True)  # suppress scientific float notation\n",
    "\n",
    "def reshape(l,flag):\n",
    "    newset = []\n",
    "    labels = []\n",
    "    for x in range(1,len(l)): #skip labels\n",
    "        row = []\n",
    "        for y in range(0,len(l[0])-1): #skip class\n",
    "            if(flag): #only add CIMP-High in this case\n",
    "                if(float(l[x][len(listit[0])-1]) != 1.0):\n",
    "                    continue\n",
    "            if(y == 0):\n",
    "                labels.append(l[x][y])\n",
    "                continue\n",
    "            row.append(l[x][y])\n",
    "        if(row == []):\n",
    "            continue\n",
    "        newset.append(row)\n",
    "    return (newset,labels)\n",
    "\n",
    "#inpdat = \"../../../selectedfeatures2withcimplow.csv\"\n",
    "inpdat = \"../../../4ormoreDATLOW.csv\"\n",
    "\n",
    "with open(inpdat,'r') as f:\n",
    "    it = csv.reader(f)\n",
    "    listit = list(it)\n",
    "\n",
    "onlyhigh = True\n",
    "X = np.asarray(reshape(listit,onlyhigh)[0])\n",
    "\n",
    "raw = reshape(listit,onlyhigh)[1]\n",
    "labs = np.asarray(raw)\n",
    "\n",
    "\n",
    "X"
   ]
  },
  {
   "cell_type": "code",
   "execution_count": 2,
   "metadata": {},
   "outputs": [
    {
     "data": {
      "text/plain": [
       "0.76304417284538706"
      ]
     },
     "execution_count": 2,
     "metadata": {},
     "output_type": "execute_result"
    }
   ],
   "source": [
    "# generate the linkage matrix\n",
    "Z = linkage(X, 'ward')\n",
    "\n",
    "c, coph_dists = cophenet(Z, pdist(X))\n",
    "c"
   ]
  },
  {
   "cell_type": "code",
   "execution_count": 3,
   "metadata": {},
   "outputs": [
    {
     "data": {
      "text/plain": [
       "<matplotlib.figure.Figure at 0x7f5ceb419ba8>"
      ]
     },
     "metadata": {},
     "output_type": "display_data"
    },
    {
     "data": {
      "image/png": "[encoded data removed]",
      "text/plain": [
       "<matplotlib.figure.Figure at 0x7f5ceb2f6128>"
      ]
     },
     "metadata": {},
     "output_type": "display_data"
    }
   ],
   "source": [
    "#set link colors\n",
    "#cmap = cm.cool(np.linspace(0,1,4))\n",
    "cmap = cm.nipy_spectral(np.linspace(0,1,4))\n",
    "set_link_color_palette([mpl.colors.rgb2hex(rgb[:3]) for rgb in cmap])\n",
    "# calculate full dendrogram\n",
    "plt.clf()\n",
    "plt.figure(figsize=(25, 10))\n",
    "plt.title('Hierarchical Clustering of CIMP-High Samples')\n",
    "plt.xlabel('TCGA sample ID')\n",
    "plt.ylabel('distance')\n",
    "ddata = dendrogram(\n",
    "    Z,\n",
    "    labels=labs,\n",
    "    leaf_rotation=90.,  # rotates the x axis labels\n",
    "    leaf_font_size=8.,  # font size for the x axis labels\n",
    ")\n",
    "\n",
    "#list our hard-to-find samples\n",
    "target = ['TCGA-AG-3600','TCGA-AG-A02X']\n",
    "\n",
    "#color the labels\n",
    "label_colors = {}\n",
    "for x in range(1,len(listit)):\n",
    "#    if(onlyhigh):\n",
    "#        if(listit[x][0] in target):\n",
    "#            label_colors[listit[x][0]] = 'b'\n",
    "#            continue\n",
    "    if(float(listit[x][len(listit[0])-1]) == -1.0):\n",
    "        label_colors[listit[x][0]] = 'r'\n",
    "    elif(float(listit[x][len(listit[0])-1]) == 1.0):\n",
    "        label_colors[listit[x][0]] = 'g'\n",
    "    else:\n",
    "        label_colors[listit[x][0]] = 'black'\n",
    "\n",
    "ax = plt.gca()\n",
    "xlbls = ax.get_xmajorticklabels()\n",
    "for lbl in xlbls:\n",
    "    lbl.set_color(label_colors[lbl.get_text()])"
   ]
  },
  {
   "cell_type": "code",
   "execution_count": null,
   "metadata": {},
   "outputs": [],
   "source": []
  }
 ],
 "metadata": {
  "kernelspec": {
   "display_name": "Python 3",
   "language": "python",
   "name": "python3"
  },
  "language_info": {
   "codemirror_mode": {
    "name": "ipython",
    "version": 3
   },
   "file_extension": ".py",
   "mimetype": "text/x-python",
   "name": "python",
   "nbconvert_exporter": "python",
   "pygments_lexer": "ipython3",
   "version": "3.6.3"
  }
 },
 "nbformat": 4,
 "nbformat_minor": 2
}
