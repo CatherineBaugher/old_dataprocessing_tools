{
 "cells": [
  {
   "cell_type": "code",
   "execution_count": 2,
   "metadata": {},
   "outputs": [
    {
     "ename": "SyntaxError",
     "evalue": "Missing parentheses in call to 'print'. Did you mean print(__doc__)? (<ipython-input-2-9cdcd101d0af>, line 1)",
     "output_type": "error",
     "traceback": [
      "\u001b[0;36m  File \u001b[0;32m\"<ipython-input-2-9cdcd101d0af>\"\u001b[0;36m, line \u001b[0;32m1\u001b[0m\n\u001b[0;31m    print __doc__\u001b[0m\n\u001b[0m                ^\u001b[0m\n\u001b[0;31mSyntaxError\u001b[0m\u001b[0;31m:\u001b[0m Missing parentheses in call to 'print'. Did you mean print(__doc__)?\n"
     ]
    }
   ],
   "source": [
    "print __doc__\n",
    "\n",
    "from time import time\n",
    "import numpy as np\n",
    "\n",
    "from scikits.learn.cluster import KMeans\n",
    "from scikits.learn.datasets import load_digits\n",
    "from scikits.learn.pca import PCA\n",
    "from scikits.learn.preprocessing import scale\n",
    "\n",
    "np.random.seed(42)\n",
    "\n",
    "digits = load_digits()\n",
    "data = scale(digits.data)\n",
    "\n",
    "n_samples, n_features = data.shape\n",
    "n_digits = len(np.unique(digits.target))\n",
    "\n",
    "print \"n_digits: %d\" % n_digits\n",
    "print \"n_features: %d\" % n_features\n",
    "print \"n_samples: %d\" % n_samples\n",
    "print\n",
    "\n",
    "print \"Raw k-means with k-means++ init...\"\n",
    "t0 = time()\n",
    "km = KMeans(init='k-means++', k=n_digits, n_init=10).fit(data)\n",
    "print \"done in %0.3fs\" % (time() - t0)\n",
    "print \"inertia: %f\" % km.inertia_\n",
    "print\n",
    "\n",
    "print \"Raw k-means with random centroid init...\"\n",
    "t0 = time()\n",
    "km = KMeans(init='random', k=n_digits, n_init=10).fit(data)\n",
    "print \"done in %0.3fs\" % (time() - t0)\n",
    "print \"inertia: %f\" % km.inertia_\n",
    "print\n",
    "\n",
    "print \"Raw k-means with PCA-based centroid init...\"\n",
    "# in this case the seeding of the centers is deterministic, hence we run the\n",
    "# kmeans algorithm only once with n_init=1\n",
    "t0 = time()\n",
    "pca = PCA(n_components=n_digits).fit(data)\n",
    "km = KMeans(init=pca.components_.T, k=n_digits, n_init=1).fit(data)\n",
    "print \"done in %0.3fs\" % (time() - t0)\n",
    "print \"inertia: %f\" % km.inertia_\n",
    "print\n"
   ]
  },
  {
   "cell_type": "code",
   "execution_count": null,
   "metadata": {},
   "outputs": [],
   "source": []
  }
 ],
 "metadata": {
  "kernelspec": {
   "display_name": "Python 3",
   "language": "python",
   "name": "python3"
  },
  "language_info": {
   "codemirror_mode": {
    "name": "ipython",
    "version": 3
   },
   "file_extension": ".py",
   "mimetype": "text/x-python",
   "name": "python",
   "nbconvert_exporter": "python",
   "pygments_lexer": "ipython3",
   "version": "3.6.3"
  }
 },
 "nbformat": 4,
 "nbformat_minor": 2
}
