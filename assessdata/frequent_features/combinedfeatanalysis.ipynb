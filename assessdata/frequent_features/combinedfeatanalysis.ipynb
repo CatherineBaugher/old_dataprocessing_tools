{
 "cells": [
  {
   "cell_type": "code",
   "execution_count": null,
   "metadata": {},
   "outputs": [
    {
     "name": "stdout",
     "output_type": "stream",
     "text": [
      "Got one!\n",
      "Got one!\n",
      "Got one!\n",
      "Got one!\n",
      "Got one!\n",
      "Got one!\n",
      "Got one!\n",
      "Got one!\n",
      "Got one!\n",
      "Got one!\n",
      "Got one!\n",
      "Got one!\n",
      "Got one!\n",
      "Got one!\n",
      "Got one!\n",
      "Got one!\n",
      "Got one!\n",
      "Got one!\n",
      "Got one!\n",
      "Got one!\n",
      "Got one!\n",
      "Got one!\n",
      "Got one!\n",
      "Got one!\n"
     ]
    }
   ],
   "source": [
    "import csv\n",
    "import os\n",
    "import math\n",
    "import statistics\n",
    "\n",
    "with open(\"../../../coadreadDAT2.csv\",\"r\") as f:\n",
    "    it = csv.reader(f)\n",
    "    listit = list(it)\n",
    "\n",
    "feats = listit[0]\n",
    "beginnings = []\n",
    "#check if any features begin at same start coordinate\n",
    "for feature in feats:\n",
    "    if(feature != \"\" and feature != \"class\"):\n",
    "        parts = feature.split(\"_\")\n",
    "        begcoord = parts[2].split(\"-\")[0]\n",
    "        comp = parts[0] + parts[1] + begcoord\n",
    "        fullcoords = parts[0] + parts[1] + parts[2]\n",
    "        for feature2 in feats:\n",
    "            if(feature2 != \"\" and feature2 != \"class\"):\n",
    "                parts2 = feature2.split(\"_\")\n",
    "                begcoord2 = parts2[2].split(\"-\")[0]\n",
    "                comp2 = parts2[0] + parts2[1] + begcoord2\n",
    "                fullcoords2 = parts2[0] + parts2[1] + parts2[2]\n",
    "                if(fullcoords != fullcoords2):\n",
    "                    if(comp == comp2):\n",
    "                        print(\"Got one!\")\n",
    "                        myTup = (feature,feature2)\n",
    "                        beginnings.append(myTup)"
   ]
  },
  {
   "cell_type": "code",
   "execution_count": null,
   "metadata": {},
   "outputs": [],
   "source": [
    "#output list of features\n",
    "results = open(\"./combinedfeaturenames.txt\")\n",
    "for feature in feats:\n",
    "    if(feature != \"\" and feature != \"class\"):\n",
    "        results.write(feature + \"\\n\")\n",
    "results.close()"
   ]
  }
 ],
 "metadata": {
  "kernelspec": {
   "display_name": "Python 3",
   "language": "python",
   "name": "python3"
  },
  "language_info": {
   "codemirror_mode": {
    "name": "ipython",
    "version": 3
   },
   "file_extension": ".py",
   "mimetype": "text/x-python",
   "name": "python",
   "nbconvert_exporter": "python",
   "pygments_lexer": "ipython3",
   "version": "3.6.3"
  }
 },
 "nbformat": 4,
 "nbformat_minor": 2
}
