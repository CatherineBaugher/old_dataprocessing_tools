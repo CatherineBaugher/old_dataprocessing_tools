{
 "cells": [
  {
   "cell_type": "code",
   "execution_count": 1,
   "metadata": {
    "scrolled": true
   },
   "outputs": [
    {
     "name": "stdout",
     "output_type": "stream",
     "text": [
      "number of samples: 32\n",
      "number of features: 17\n"
     ]
    },
    {
     "data": {
      "text/plain": [
       "['BRAF_GRCh37_7:140453136-140453136_Missense-Mutation-SNP-A-A-T_Missense-Mutation-SNP-A-T-T',\n",
       " 'GRB14_GRCh37_2:165365288-165365296_In-Frame-Del-DEL-TTTTTTTTT----',\n",
       " 'MBD4_GRCh37_3:129155548-129155557_Frame-Shift-Del-DEL-TTTTTTTTTT----',\n",
       " 'MSH6_GRCh37_2:48030640-48030647_Frame-Shift-Del-DEL-CCCCCCCC----',\n",
       " 'PRDM2_GRCh37_1:14108749-14108757_In-Frame-Del-DEL-AAAAAAAAA----',\n",
       " 'HMMR_GRCh37_5:162917426-162917434_In-Frame-Del-DEL-AAAAAAAAA----',\n",
       " 'SEC63_GRCh37_6:108214755-108214764_Frame-Shift-Del-DEL-TTTTTTTTTT----',\n",
       " 'KRAS_GRCh37_12:25398284-25398284_Missense-Mutation-SNP-C-T-T',\n",
       " 'PIK3CA_GRCh37_3:178952085-178952085_Missense-Mutation-SNP-A-G-G',\n",
       " 'RAD50_GRCh37_5:131931452-131931460_In-Frame-Del-DEL-AAAAAAAAA----',\n",
       " 'ACVR2A_GRCh37_2:148683686-148683693_Frame-Shift-Del-DEL-AAAAAAAA----',\n",
       " 'CASP5_GRCh37_11:104878041-104878050_Frame-Shift-Del-DEL-TTTTTTTTTT----',\n",
       " 'MSH3_GRCh37_5:79970915-79970922_Frame-Shift-Del-DEL-AAAAAAAA----',\n",
       " 'ATR_GRCh37_3:142274740-142274749_Frame-Shift-Del-DEL-TTTTTTTTTT----',\n",
       " 'TGFBR2_GRCh37_3:30691872-30691881_Frame-Shift-Del-DEL-AAAAAAAAAA----',\n",
       " 'AIM2_GRCh37_1:159032487-159032496_Frame-Shift-Del-DEL-TTTTTTTTTT----',\n",
       " 'TCF7L2_GRCh37_10:114925317-114925325_In-Frame-Del-DEL-AAAAAAAAA----']"
      ]
     },
     "execution_count": 1,
     "metadata": {},
     "output_type": "execute_result"
    }
   ],
   "source": [
    "import csv\n",
    "import random\n",
    "\n",
    "inpdat = \"../../../3ormoreDATLOW.csv\"\n",
    "with open(inpdat,'r') as f:\n",
    "    it = csv.reader(f)\n",
    "    listit = list(it)\n",
    "\n",
    "featnames = listit[0][1:-1]\n",
    "cimphigh = [] # data set of only foreground\n",
    "#only view data for foreground\n",
    "for row in listit:\n",
    "    if(row[0] == \"\"):\n",
    "        cimphigh.append(row)\n",
    "        continue\n",
    "    if(float(row[len(listit[0])-1]) == 1.0):\n",
    "        cimphigh.append(row)\n",
    "        \n",
    "#print number of samples in foreground\n",
    "numsamps = len(cimphigh)-1\n",
    "numfeats = len(cimphigh[0])-2\n",
    "print(\"number of samples:\",numsamps)\n",
    "print(\"number of features:\",numfeats)\n",
    "featnames"
   ]
  },
  {
   "cell_type": "code",
   "execution_count": 2,
   "metadata": {},
   "outputs": [],
   "source": [
    "output = open('./sampfeatrelations-highonly.sif', 'w')\n",
    "exists = []\n",
    "for x in range(1,len(cimphigh)):\n",
    "    for y in range(1,len(cimphigh[0])-1):\n",
    "        if(float(cimphigh[x][y]) == 1.0):\n",
    "            output.write(cimphigh[x][0]+\" typeA \"+cimphigh[0][y].split(\"_\")[0]+\"\\n\")\n",
    "            exists.append(cimphigh[0][y])\n",
    "output.close()"
   ]
  },
  {
   "cell_type": "markdown",
   "metadata": {},
   "source": [
    "### make color attributes for nodes"
   ]
  },
  {
   "cell_type": "code",
   "execution_count": 3,
   "metadata": {},
   "outputs": [],
   "source": [
    "fcolor = open('./nodeattributes.csv','w')\n",
    "\n",
    "fcolor.write(\"node,fillcolor,shape,width\\n\")\n",
    "color = ''\n",
    "#first color the sample nodes\n",
    "for x in range(1, len(cimphigh)):\n",
    "    if(float(cimphigh[x][len(cimphigh[0])-1]) == 1.0):\n",
    "        color = 'green'\n",
    "    elif(float(cimphigh[x][len(cimphigh[0])-1]) == 2.0):\n",
    "        color = 'black'\n",
    "    elif(float(cimphigh[x][len(cimphigh[0])-1]) == -1.0):\n",
    "        color = 'red'\n",
    "    else:\n",
    "        print(\"FATAL ERROR: unknown class\")\n",
    "        break\n",
    "    fcolor.write(cimphigh[x][0]+\",\"+color+\",circle,label\\n\")\n",
    "#next color the feature nodes\n",
    "#note: it's possible for a feature to not appear in the graph, if it does not occur in any positive samples\n",
    "for y in range(1,len(cimphigh[0])-1):\n",
    "    if(cimphigh[0][y] in exists):\n",
    "        fcolor.write(cimphigh[0][y].split(\"_\")[0]+\",\"+\"yellow,rectangle,label\\n\")\n",
    "fcolor.close()"
   ]
  }
 ],
 "metadata": {
  "kernelspec": {
   "display_name": "Python 3",
   "language": "python",
   "name": "python3"
  },
  "language_info": {
   "codemirror_mode": {
    "name": "ipython",
    "version": 3
   },
   "file_extension": ".py",
   "mimetype": "text/x-python",
   "name": "python",
   "nbconvert_exporter": "python",
   "pygments_lexer": "ipython3",
   "version": "3.6.3"
  }
 },
 "nbformat": 4,
 "nbformat_minor": 2
}
