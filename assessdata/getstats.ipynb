{
 "cells": [
  {
   "cell_type": "code",
   "execution_count": 1,
   "metadata": {},
   "outputs": [
    {
     "name": "stdout",
     "output_type": "stream",
     "text": [
      "224\n"
     ]
    }
   ],
   "source": [
    "#learn about the 2 difficult-to-classify samples\n",
    "import csv\n",
    "\n",
    "inpdat = \"../../coadreadDATLOWSPECIAL.csv\"\n",
    "\n",
    "with open(inpdat,'r') as f:\n",
    "    it = csv.reader(f)\n",
    "    listit = list(it)\n",
    "    \n",
    "print(len(listit)-1)"
   ]
  },
  {
   "cell_type": "code",
   "execution_count": 2,
   "metadata": {},
   "outputs": [
    {
     "name": "stdout",
     "output_type": "stream",
     "text": [
      "CIMP-H:  32  CIMP-L:  50  CIMP-N:  142\n"
     ]
    }
   ],
   "source": [
    "pos = 0\n",
    "neg = 0\n",
    "low = 0\n",
    "for x in range(1,len(listit)):\n",
    "    if(float(listit[x][len(listit[0])-1]) == 1.0):\n",
    "        pos += 1\n",
    "    elif(float(listit[x][len(listit[0])-1]) == 2.0):\n",
    "        low += 1\n",
    "    elif(float(listit[x][len(listit[0])-1]) == -1.0):\n",
    "        neg += 1\n",
    "print(\"CIMP-H: \",pos,\" CIMP-L: \",low,\" CIMP-N: \",neg)"
   ]
  },
  {
   "cell_type": "code",
   "execution_count": 3,
   "metadata": {},
   "outputs": [
    {
     "name": "stdout",
     "output_type": "stream",
     "text": [
      "88775\n"
     ]
    }
   ],
   "source": [
    "print(len(listit[0])-2)"
   ]
  },
  {
   "cell_type": "code",
   "execution_count": null,
   "metadata": {},
   "outputs": [],
   "source": []
  }
 ],
 "metadata": {
  "kernelspec": {
   "display_name": "Python 3",
   "language": "python",
   "name": "python3"
  },
  "language_info": {
   "codemirror_mode": {
    "name": "ipython",
    "version": 3
   },
   "file_extension": ".py",
   "mimetype": "text/x-python",
   "name": "python",
   "nbconvert_exporter": "python",
   "pygments_lexer": "ipython3",
   "version": "3.6.3"
  }
 },
 "nbformat": 4,
 "nbformat_minor": 2
}
