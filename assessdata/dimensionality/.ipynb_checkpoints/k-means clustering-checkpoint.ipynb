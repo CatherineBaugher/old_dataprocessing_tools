{
 "cells": [
  {
   "cell_type": "code",
   "execution_count": 1,
   "metadata": {},
   "outputs": [
    {
     "name": "stdout",
     "output_type": "stream",
     "text": [
      "['TCGA-A6-2672', 'TCGA-A6-2676', 'TCGA-AA-3516', 'TCGA-AA-3518', 'TCGA-AA-3525', 'TCGA-AA-3543', 'TCGA-AA-3664', 'TCGA-AA-3672', 'TCGA-AA-3710', 'TCGA-AA-3715', 'TCGA-AA-3821', 'TCGA-AA-3833', 'TCGA-AA-3837', 'TCGA-AA-3845', 'TCGA-AA-3870', 'TCGA-AA-3877', 'TCGA-AA-3941', 'TCGA-AA-3947', 'TCGA-AA-3949', 'TCGA-AA-3994', 'TCGA-AA-A00A', 'TCGA-AA-A00D', 'TCGA-AA-A00E', 'TCGA-AA-A00J', 'TCGA-AA-A01P', 'TCGA-AA-A022', 'TCGA-AA-A029', 'TCGA-AA-A02O', 'TCGA-AA-A03F', 'TCGA-AG-3575', 'TCGA-AG-3600', 'TCGA-AG-A02X']\n",
      "len:  32\n",
      "32\n",
      "[[-0.52672581 -0.28652636]\n",
      " [ 0.35466779  0.25024564]\n",
      " [-0.02983436 -0.48149444]\n",
      " [-0.08025398 -0.11686258]\n",
      " [ 0.28242278 -0.85528531]\n",
      " [-0.32392555 -0.55263164]\n",
      " [-0.52672581 -0.28652636]\n",
      " [ 0.68664632  1.65360793]\n",
      " [ 0.25383879  1.44045178]\n",
      " [ 1.95937058  0.06619564]\n",
      " [ 0.39168079 -0.20378473]\n",
      " [ 0.77767452  0.80964407]\n",
      " [-0.86918112 -0.03267137]\n",
      " [ 0.39290385  0.0795739 ]\n",
      " [-0.982891   -0.04749782]\n",
      " [ 1.04711763  0.90941031]\n",
      " [-0.982891   -0.04749782]\n",
      " [ 2.24098331 -1.09114843]\n",
      " [ 1.28376726 -0.31027389]\n",
      " [-0.982891   -0.04749782]\n",
      " [-0.62027715 -0.29985698]\n",
      " [-0.52672581 -0.28652636]\n",
      " [-0.35734158  0.09103391]\n",
      " [ 0.33756212 -0.62084232]\n",
      " [ 0.65437603  0.90513326]\n",
      " [ 1.50401916 -0.89843567]\n",
      " [-0.86918112 -0.03267137]\n",
      " [-0.982891   -0.04749782]\n",
      " [-0.982891   -0.04749782]\n",
      " [-0.7840414   0.45307324]\n",
      " [-0.86918112 -0.03267137]\n",
      " [-0.86918112 -0.03267137]]\n"
     ]
    },
    {
     "name": "stderr",
     "output_type": "stream",
     "text": [
      "/usr/local/lib/python3.6/dist-packages/sklearn/utils/deprecation.py:58: DeprecationWarning: Class RandomizedPCA is deprecated; RandomizedPCA was deprecated in 0.18 and will be removed in 0.20. Use PCA(svd_solver='randomized') instead. The new implementation DOES NOT store whiten ``components_``. Apply transform to get them.\n",
      "  warnings.warn(msg, category=DeprecationWarning)\n"
     ]
    }
   ],
   "source": [
    "from copy import deepcopy\n",
    "import numpy as np\n",
    "import pandas as pd\n",
    "from matplotlib import pyplot\n",
    "from mpl_toolkits.mplot3d import Axes3D\n",
    "from sklearn import manifold, datasets\n",
    "from sklearn.cluster import KMeans\n",
    "from sklearn import decomposition\n",
    "from sklearn import datasets\n",
    "import csv\n",
    "\n",
    "'''\n",
    "plt.rcParams['figure.figsize'] = (16, 9)\n",
    "plt.style.use('ggplot')\n",
    "\n",
    "#inpdat = \"../../../selectedfeatures2withcimplow.csv\"\n",
    "inpdat = \"../../../4ormoreDATLOW.csv\"\n",
    "\n",
    "data = pd.read_csv(inpdat, index_col=0)\n",
    "rem = []\n",
    "for index, row in data.iterrows():\n",
    "    if row['class'] == -1.0 or row['class'] == 2.0:\n",
    "        rem.append(row.name)\n",
    "data = data.drop(rem)\n",
    "data = data.drop('class',1)\n",
    "print(data.shape)\n",
    "data.head()\n",
    "\n",
    "X = data\n",
    "'''\n",
    "\n",
    "dataMatrix = pd.read_csv('../../../3ormoreDATLOW.csv', index_col=0)\n",
    "dataMatrix.loc[dataMatrix['class'] == 2.0, 'class'] = -1.0\n",
    "\n",
    "arr = dataMatrix.values\n",
    "numcols = len(arr[0]) - 1\n",
    "#NOTE!! THIS MAKES IT SO WE ONLY SEE CIMP-HIGH\n",
    "colheads = list(dataMatrix.index)\n",
    "collabs = []\n",
    "for x in range(0, len(arr)):\n",
    "    if(arr[x][len(arr[0])-1] == 1.0):\n",
    "        collabs.append(colheads[x])\n",
    "print(collabs)\n",
    "new = arr[(arr[:,numcols]==1.)]\n",
    "arr = new\n",
    "print(\"len: \",len(arr))\n",
    "\n",
    "\n",
    "x = arr[:,0:numcols]\n",
    "y = arr[:,numcols]\n",
    "for m in range(len(y)):\n",
    "    if y[m] == -1:\n",
    "        y[m] = 0\n",
    "\n",
    "# Create a Randomized PCA model that takes two components\n",
    "randomized_pca = decomposition.RandomizedPCA(n_components=2) \n",
    "\n",
    "# Fit and transform the data to the model\n",
    "reduced_data_rpca = randomized_pca.fit_transform(x)\n",
    "\n",
    "# Create a regular PCA model \n",
    "pca = decomposition.PCA(n_components=2)\n",
    "\n",
    "# Fit and transform the data to the model\n",
    "reduced_data_pca = pca.fit_transform(x)\n",
    "\n",
    "# Inspect the shape\n",
    "reduced_data_pca.shape\n",
    "\n",
    "# Print out the data\n",
    "print(len(reduced_data_pca))\n",
    "print(reduced_data_pca)"
   ]
  },
  {
   "cell_type": "code",
   "execution_count": 2,
   "metadata": {},
   "outputs": [
    {
     "data": {
      "image/png": "[encoded data removed]",
      "text/plain": [
       "<matplotlib.figure.Figure at 0x7f88304f76a0>"
      ]
     },
     "metadata": {},
     "output_type": "display_data"
    }
   ],
   "source": [
    "#calculate kmeans clustering\n",
    "pts = []\n",
    "for point in reduced_data_pca:\n",
    "    pts.append([point[0],point[1]])\n",
    "pts = np.array(pts)\n",
    "\n",
    "kmeans = KMeans(n_clusters=3, random_state=0).fit(pts)\n",
    "\n",
    "k = 3\n",
    "kmeans.fit(pts)\n",
    "\n",
    "labels = kmeans.labels_\n",
    "centroids = kmeans.cluster_centers_\n",
    "\n",
    "for i in range(k):\n",
    "    # select only data observations with cluster label == i\n",
    "    ds = pts[np.where(labels==i)]\n",
    "    # plot the data observations\n",
    "    pyplot.plot(ds[:,0],ds[:,1],'o')\n",
    "    # plot the centroids\n",
    "    lines = pyplot.plot(centroids[i,0],centroids[i,1],'kx')\n",
    "    # make the centroid x's bigger\n",
    "    pyplot.setp(lines,ms=15.0)\n",
    "    pyplot.setp(lines,mew=2.0)\n",
    "pyplot.show()\n",
    "\n"
   ]
  },
  {
   "cell_type": "code",
   "execution_count": 5,
   "metadata": {},
   "outputs": [
    {
     "name": "stdout",
     "output_type": "stream",
     "text": [
      "CLUSTER 1:\n",
      "['TCGA-A6-2672', 'TCGA-AA-3516', 'TCGA-AA-3518', 'TCGA-AA-3525', 'TCGA-AA-3543', 'TCGA-AA-3664', 'TCGA-AA-3821', 'TCGA-AA-3837', 'TCGA-AA-3870', 'TCGA-AA-3941', 'TCGA-AA-3994', 'TCGA-AA-A00A', 'TCGA-AA-A00D', 'TCGA-AA-A00E', 'TCGA-AA-A00J', 'TCGA-AA-A029', 'TCGA-AA-A02O', 'TCGA-AA-A03F', 'TCGA-AG-3575', 'TCGA-AG-3600', 'TCGA-AG-A02X']\n",
      "CLUSTER 2:\n",
      "['TCGA-A6-2676', 'TCGA-AA-3672', 'TCGA-AA-3710', 'TCGA-AA-3833', 'TCGA-AA-3845', 'TCGA-AA-3877', 'TCGA-AA-A01P']\n",
      "CLUSTER 3:\n",
      "['TCGA-AA-3715', 'TCGA-AA-3947', 'TCGA-AA-3949', 'TCGA-AA-A022']\n"
     ]
    }
   ],
   "source": [
    "clust1 = []\n",
    "clust2 = []\n",
    "clust3 = []\n",
    "for x in range(0,len(collabs)):\n",
    "    if(labels[x] == 0):\n",
    "        clust1.append(collabs[x])\n",
    "    if(labels[x] == 1):\n",
    "        clust2.append(collabs[x])\n",
    "    if(labels[x] == 2):\n",
    "        clust3.append(collabs[x])\n",
    "\n",
    "print(\"CLUSTER 1:\")\n",
    "print(clust1)\n",
    "\n",
    "print(\"CLUSTER 2:\")\n",
    "print(clust2)\n",
    "\n",
    "print(\"CLUSTER 3:\")\n",
    "print(clust3)"
   ]
  },
  {
   "cell_type": "code",
   "execution_count": null,
   "metadata": {},
   "outputs": [],
   "source": []
  },
  {
   "cell_type": "code",
   "execution_count": null,
   "metadata": {},
   "outputs": [],
   "source": []
  }
 ],
 "metadata": {
  "kernelspec": {
   "display_name": "Python 3",
   "language": "python",
   "name": "python3"
  },
  "language_info": {
   "codemirror_mode": {
    "name": "ipython",
    "version": 3
   },
   "file_extension": ".py",
   "mimetype": "text/x-python",
   "name": "python",
   "nbconvert_exporter": "python",
   "pygments_lexer": "ipython3",
   "version": "3.6.3"
  }
 },
 "nbformat": 4,
 "nbformat_minor": 2
}
