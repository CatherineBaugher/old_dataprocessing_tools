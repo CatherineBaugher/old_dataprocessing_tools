{
 "cells": [
  {
   "cell_type": "markdown",
   "metadata": {},
   "source": [
    "# makeconfigs-samples-oneatatime-withfeats\n",
    "## This file parses through our input data to put features and samples in one figure with the occurrence linking the two"
   ]
  },
  {
   "cell_type": "markdown",
   "metadata": {},
   "source": [
    "### first load the file into a data structure"
   ]
  },
  {
   "cell_type": "code",
   "execution_count": 1,
   "metadata": {},
   "outputs": [
    {
     "name": "stdout",
     "output_type": "stream",
     "text": [
      "number of samples: 16\n",
      "number of features: 17\n"
     ]
    },
    {
     "data": {
      "text/plain": [
       "['BRAF_GRCh37_7:140453136-140453136_Missense-Mutation-SNP-A-A-T_Missense-Mutation-SNP-A-T-T',\n",
       " 'GRB14_GRCh37_2:165365288-165365296_In-Frame-Del-DEL-TTTTTTTTT----',\n",
       " 'MBD4_GRCh37_3:129155548-129155557_Frame-Shift-Del-DEL-TTTTTTTTTT----',\n",
       " 'MSH6_GRCh37_2:48030640-48030647_Frame-Shift-Del-DEL-CCCCCCCC----',\n",
       " 'PRDM2_GRCh37_1:14108749-14108757_In-Frame-Del-DEL-AAAAAAAAA----',\n",
       " 'HMMR_GRCh37_5:162917426-162917434_In-Frame-Del-DEL-AAAAAAAAA----',\n",
       " 'SEC63_GRCh37_6:108214755-108214764_Frame-Shift-Del-DEL-TTTTTTTTTT----',\n",
       " 'KRAS_GRCh37_12:25398284-25398284_Missense-Mutation-SNP-C-T-T',\n",
       " 'PIK3CA_GRCh37_3:178952085-178952085_Missense-Mutation-SNP-A-G-G',\n",
       " 'RAD50_GRCh37_5:131931452-131931460_In-Frame-Del-DEL-AAAAAAAAA----',\n",
       " 'ACVR2A_GRCh37_2:148683686-148683693_Frame-Shift-Del-DEL-AAAAAAAA----',\n",
       " 'CASP5_GRCh37_11:104878041-104878050_Frame-Shift-Del-DEL-TTTTTTTTTT----',\n",
       " 'MSH3_GRCh37_5:79970915-79970922_Frame-Shift-Del-DEL-AAAAAAAA----',\n",
       " 'ATR_GRCh37_3:142274740-142274749_Frame-Shift-Del-DEL-TTTTTTTTTT----',\n",
       " 'TGFBR2_GRCh37_3:30691872-30691881_Frame-Shift-Del-DEL-AAAAAAAAAA----',\n",
       " 'AIM2_GRCh37_1:159032487-159032496_Frame-Shift-Del-DEL-TTTTTTTTTT----',\n",
       " 'TCF7L2_GRCh37_10:114925317-114925325_In-Frame-Del-DEL-AAAAAAAAA----']"
      ]
     },
     "execution_count": 1,
     "metadata": {},
     "output_type": "execute_result"
    }
   ],
   "source": [
    "import csv\n",
    "import random\n",
    "\n",
    "inpdat = \"../../../3ormoreDATLOW.csv\"\n",
    "with open(inpdat,'r') as f:\n",
    "    it = csv.reader(f)\n",
    "    listit = list(it)\n",
    "\n",
    "featnames = listit[0][1:-1]\n",
    "cimphigh = [] # data set of only foreground\n",
    "for y in range(1,len(listit[0])-1):\n",
    "    if(listit[0][y].split(\"_\")[0] == \"KRAS\"):\n",
    "        krasname = listit[0][y]\n",
    "    if(listit[0][y].split(\"_\")[0] == \"BRAF\"):\n",
    "        brafname = listit[0][y]    \n",
    "\n",
    "sampnames = [] # sample names stored here for quicker access\n",
    "cimphigh = [] # data set of only foreground\n",
    "#only view data for foreground\n",
    "for row in listit:\n",
    "    if(row[0] == \"\"):\n",
    "        cimphigh.append(row)\n",
    "        continue\n",
    "    if(float(row[len(listit[0])-1]) == 1.0):\n",
    "        #show only samples with specific mutation\n",
    "        if(float(row[listit[0].index(brafname)]) == 1.0):\n",
    "            cimphigh.append(row)\n",
    "            sampnames.append(row[0])\n",
    "\n",
    "\n",
    "#print number of samples in foreground\n",
    "numsamps = len(cimphigh)-1\n",
    "numfeats = len(cimphigh[0])-2\n",
    "print(\"number of samples:\",numsamps)\n",
    "print(\"number of features:\",numfeats)\n",
    "featnames"
   ]
  },
  {
   "cell_type": "markdown",
   "metadata": {},
   "source": [
    "### next parse through the features and generate \"similarity scores\" (number of times 2 features occur together acros CIMP-High samples)"
   ]
  },
  {
   "cell_type": "code",
   "execution_count": 2,
   "metadata": {},
   "outputs": [
    {
     "data": {
      "text/plain": [
       "'similarities = {} # pairwise scores/counts of similarity stored here\\nfor x in range(1,len(cimphigh[0])-1):\\n    for y in range(1,len(cimphigh[0])-1): # iterate n^2 to get all pairwise relationships\\n        if(cimphigh[0][x] == cimphigh[0][y] or (cimphigh[0][y],cimphigh[0][x]) in similarities): # skip relationships between samples with themselves, or if already in dict\\n            continue\\n        # calculate number of similar features between two samples\\n        counter = 0\\n        for k in range(1,len(cimphigh)):\\n            if(float(cimphigh[k][x]) == 1.0 and float(cimphigh[k][y]) == 1.0):\\n                counter += 1\\n        similarities[(cimphigh[0][x],cimphigh[0][y])] = counter\\n\\nsimilarities'"
      ]
     },
     "execution_count": 2,
     "metadata": {},
     "output_type": "execute_result"
    }
   ],
   "source": [
    "'''similarities = {} # pairwise scores/counts of similarity stored here\n",
    "for x in range(1,len(cimphigh[0])-1):\n",
    "    for y in range(1,len(cimphigh[0])-1): # iterate n^2 to get all pairwise relationships\n",
    "        if(cimphigh[0][x] == cimphigh[0][y] or (cimphigh[0][y],cimphigh[0][x]) in similarities): # skip relationships between samples with themselves, or if already in dict\n",
    "            continue\n",
    "        # calculate number of similar features between two samples\n",
    "        counter = 0\n",
    "        for k in range(1,len(cimphigh)):\n",
    "            if(float(cimphigh[k][x]) == 1.0 and float(cimphigh[k][y]) == 1.0):\n",
    "                counter += 1\n",
    "        similarities[(cimphigh[0][x],cimphigh[0][y])] = counter\n",
    "\n",
    "similarities'''"
   ]
  },
  {
   "cell_type": "markdown",
   "metadata": {},
   "source": [
    "### open and set up a karyotype file.\n",
    "### start by defining \"chromosomes\", eg nodes of the circo"
   ]
  },
  {
   "cell_type": "code",
   "execution_count": 3,
   "metadata": {},
   "outputs": [],
   "source": [
    "kary = open(\"karyotype.txt\",\"w\")\n",
    "\n",
    "# obtain n colors, algorithm written by Vivek Anandan user on Quora\n",
    "colors = []\n",
    "r = int(random.random() * 256)\n",
    "g = int(random.random() * 256)\n",
    "b = int(random.random() * 256)\n",
    "step = 256/numsamps\n",
    "for i in range(numsamps):\n",
    "    r += step\n",
    "    g += step\n",
    "    b += step\n",
    "    r = int(r) % 256\n",
    "    g = int(g) % 256\n",
    "    b = int(b) % 256\n",
    "    colors.append((r,g,b))\n",
    "\n",
    "kary.write(\"# initialization of features\\n\")\n",
    "# format: chr - ID LABEL START END COLOR\n",
    "#first write out the samples\n",
    "namesofall = []\n",
    "for x in range(0,len(cimphigh)-1):\n",
    "    if(float(cimphigh[x+1][len(cimphigh[0])-1]) == 1.0):\n",
    "        kary.write(\"chr - %s %s %d %d green\\n\" % (cimphigh[x+1][0],cimphigh[x+1][0], (x*3), (x*3)+3)) # defines a \"chromosome\"\n",
    "    else:\n",
    "        kary.write(\"chr - %s %s %d %d red\\n\" % (cimphigh[x+1][0],cimphigh[x+1][0], (x*3), (x*3)+3)) # defines a \"chromosome\"\n",
    "    namesofall.append(cimphigh[x+1][0])\n",
    "maxnum = (len(namesofall))\n",
    "#now the features\n",
    "for x in range(0,len(cimphigh[0])-2):\n",
    "    kary.write(\"chr - %s %s %d %d black\\n\" % (\"feat\"+str(x+1),cimphigh[0][x+1].split(\"_\")[0], ((maxnum+x)*10), (((maxnum+x)*10))+10)) # defines a \"chromosome\"\n",
    "    namesofall.append(cimphigh[0][x+1])"
   ]
  },
  {
   "cell_type": "markdown",
   "metadata": {},
   "source": [
    "### create file with links (the connections between samples)"
   ]
  },
  {
   "cell_type": "code",
   "execution_count": 4,
   "metadata": {},
   "outputs": [],
   "source": [
    "# close up the karyotype file and make a links file\n",
    "kary.close()\n",
    "links = open(\"links.txt\",\"w\")\n",
    "\n",
    "links.write(\"# make links\\n\")\n",
    "# establish links by occurrence\n",
    "count = 0\n",
    "for x in range(1,len(cimphigh)):\n",
    "    for y in range(1,len(cimphigh[0])-1):\n",
    "        if(float(cimphigh[x][y]) == 1.0):\n",
    "            count += 1\n",
    "            if(float(cimphigh[x][len(cimphigh[0])-1]) == 1.0):\n",
    "                links.write(\"link%d %s %d %d z=0,color=green\\n\" % (count, cimphigh[x][0], ((namesofall.index(cimphigh[x][0])*3)+1), ((namesofall.index(cimphigh[x][0])*3)+2)))\n",
    "                links.write(\"link%d %s %d %d z=0,color=green\\n\" % (count, \"feat\"+str(cimphigh[0].index(cimphigh[0][y])), ((namesofall.index(cimphigh[0][y]))*10)+4, ((namesofall.index(cimphigh[0][y]))*10)+6))\n",
    "            else:\n",
    "                links.write(\"link%d %s %d %d z=0,color=red\\n\" % (count, cimphigh[x][0], ((namesofall.index(cimphigh[x][0])*3)+1), ((namesofall.index(cimphigh[x][0])*3)+2)))\n",
    "                links.write(\"link%d %s %d %d z=0,color=red\\n\" % (count, \"feat\"+str(cimphigh[0].index(cimphigh[0][y])), ((namesofall.index(cimphigh[0][y]))*10)+4, ((namesofall.index(cimphigh[0][y]))*10)+6))\n"
   ]
  },
  {
   "cell_type": "markdown",
   "metadata": {},
   "source": [
    "### next up is creating the config file. load up data and set rules for links"
   ]
  },
  {
   "cell_type": "code",
   "execution_count": 5,
   "metadata": {},
   "outputs": [],
   "source": [
    "# close up the link file and make a config file\n",
    "links.close()\n",
    "conf = open(\"circos.conf\",\"w\")\n",
    "\n",
    "\n",
    "#required config lines\n",
    "conf.write(\"\\n\\n\\n# required files from circos.ca\\n\")\n",
    "#conf.write(\"<image>\\n\")\n",
    "conf.write(\"<<include etc/image.conf>>\\n\")\n",
    "conf.write(\"<<include etc/colors_fonts_patterns.conf>>\\n\")\n",
    "conf.write(\"<<include etc/housekeeping.conf>>\\n\")\n",
    "#conf.write(\"</image>\\n\")\n",
    "\n",
    "# link karyotype\n",
    "conf.write(\"karyotype = karyotype.txt\\n\\n\")\n",
    "\n",
    "# setup links\n",
    "conf.write(\"# add links\\n\")\n",
    "conf.write(\"<links>\\n\")\n",
    "conf.write(\"show = yes\\n\")\n",
    "conf.write(\"ribbon = yes\\n\")\n",
    "conf.write(\"flat = yes\\n\")\n",
    "conf.write(\"radius = 0.975r\\n\")\n",
    "conf.write(\"bezier_radius = 0r\\n\")\n",
    "conf.write(\"thickness = 2\\n\")\n",
    "\n",
    "conf.write(\"<link>\\n\")\n",
    "conf.write(\"file = links.txt\\n\")\n",
    "\n",
    "# set rules for color based on KRAS or BRAF\n",
    "# note these are completely optional. you can remove all rules if you wish\n",
    "'''conf.write(\"<rules>\\n\")\n",
    "conf.write(\"<rule>\\n\")\n",
    "conf.write(\"condition = between(BRAF,KRAS)\\n\")\n",
    "conf.write(\"color = black\\n\")\n",
    "conf.write(\"</rule>\\n\")\n",
    "\n",
    "conf.write(\"<rule>\\n\")\n",
    "conf.write(\"condition = var(chr1) eq \\\"KRAS\\\"\\n\")\n",
    "conf.write(\"color = red\\n\")\n",
    "conf.write(\"</rule>\\n\")\n",
    "\n",
    "conf.write(\"<rule>\\n\")\n",
    "conf.write(\"condition = var(chr1) eq \\\"BRAF\\\"\\n\")\n",
    "conf.write(\"color = purple\\n\")\n",
    "conf.write(\"</rule>\\n\")\n",
    "conf.write(\"</rules>\\n\")'''\n",
    "\n",
    "conf.write(\"</link>\\n\")\n",
    "conf.write(\"</links>\\n\")\n",
    "\n",
    "# setup image\n",
    "conf.write(\"\\n# setup image\\n\")\n",
    "conf.write(\"<image>\\n\")\n",
    "conf.write(\"<<include etc/image.conf>>\\n\")\n",
    "conf.write(\"</image>\\n\")\n",
    "\n",
    "# setup ideogram\n",
    "conf.write(\"\\n# setup ideogram\\n\")\n",
    "conf.write(\"<ideogram>\\n\")\n",
    "conf.write(\"show_label = yes\\n\")\n",
    "conf.write(\"label_font = default\\n\")\n",
    "conf.write(\"label_radius = dims(ideogram,radius) + 0.075r\\n\")\n",
    "conf.write(\"label_size = 28\\n\")\n",
    "conf.write(\"label_parallel = yes\\n\")\n",
    "# hide labels except for features\n",
    "conf.write(\"label_format = eval(var(chr) =~ /feat[0-9]*$/ ? var(label) : \\\"\\\")\\n\")\n",
    "conf.write(\"<spacing>\\n\")\n",
    "conf.write(\"default = .005r\\n\")\n",
    "conf.write(\"break = .05r\\n\")\n",
    "conf.write(\"</spacing>\\n\\n\")\n",
    "conf.write(\"thickness = 20p\\n\")\n",
    "conf.write(\"fill = yes\\n\")\n",
    "conf.write(\"radius = 0.90r\\n\")\n",
    "conf.write(\"</ideogram>\")\n",
    "\n",
    "\n",
    "conf.close()"
   ]
  },
  {
   "cell_type": "code",
   "execution_count": null,
   "metadata": {},
   "outputs": [],
   "source": []
  }
 ],
 "metadata": {
  "kernelspec": {
   "display_name": "Python 3",
   "language": "python",
   "name": "python3"
  },
  "language_info": {
   "codemirror_mode": {
    "name": "ipython",
    "version": 3
   },
   "file_extension": ".py",
   "mimetype": "text/x-python",
   "name": "python",
   "nbconvert_exporter": "python",
   "pygments_lexer": "ipython3",
   "version": "3.6.3"
  }
 },
 "nbformat": 4,
 "nbformat_minor": 2
}
