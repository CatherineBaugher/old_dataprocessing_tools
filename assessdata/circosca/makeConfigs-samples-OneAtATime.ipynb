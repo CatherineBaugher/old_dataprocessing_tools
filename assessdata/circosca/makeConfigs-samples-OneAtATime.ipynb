{
 "cells": [
  {
   "cell_type": "markdown",
   "metadata": {},
   "source": [
    "# makeconfigs-samples-oneatatime\n",
    "## This file parses through our input data to determine similarity between samples and use that to create a karyotype and config file for a circos.ca figure"
   ]
  },
  {
   "cell_type": "markdown",
   "metadata": {},
   "source": [
    "### first load the file into a data structure"
   ]
  },
  {
   "cell_type": "code",
   "execution_count": 1,
   "metadata": {},
   "outputs": [
    {
     "name": "stdout",
     "output_type": "stream",
     "text": [
      "number of samples: 6\n",
      "number of features: 17\n"
     ]
    }
   ],
   "source": [
    "import csv\n",
    "import random\n",
    "\n",
    "inpdat = \"../../../3ormoreDATLOW.csv\"\n",
    "with open(inpdat,'r') as f:\n",
    "    it = csv.reader(f)\n",
    "    listit = list(it)\n",
    "\n",
    "for y in range(1,len(listit[0])-1):\n",
    "    if(listit[0][y].split(\"_\")[0] == \"KRAS\"):\n",
    "        krasname = listit[0][y]\n",
    "    if(listit[0][y].split(\"_\")[0] == \"BRAF\"):\n",
    "        brafname = listit[0][y]    \n",
    "\n",
    "sampnames = [] # sample names stored here for quicker access\n",
    "cimphigh = [] # data set of only foreground\n",
    "#only view data for foreground\n",
    "for row in listit:\n",
    "    if(row[0] == \"\"):\n",
    "        cimphigh.append(row)\n",
    "        continue\n",
    "    if(float(row[len(listit[0])-1]) == 1.0):\n",
    "        #show only samples with specific mutation\n",
    "        if(float(row[listit[0].index(krasname)]) == 1.0):\n",
    "            cimphigh.append(row)\n",
    "            sampnames.append(row[0])\n",
    "\n",
    "#print number of samples in foreground\n",
    "numsamps = len(cimphigh)-1\n",
    "numfeats = len(cimphigh[0])-2\n",
    "print(\"number of samples:\",numsamps)\n",
    "print(\"number of features:\",numfeats)"
   ]
  },
  {
   "cell_type": "markdown",
   "metadata": {},
   "source": [
    "### next parse through the features and generate \"similarity scores\" (counts of similar features present between pairwise relationships)"
   ]
  },
  {
   "cell_type": "code",
   "execution_count": 2,
   "metadata": {},
   "outputs": [
    {
     "data": {
      "text/plain": [
       "{('TCGA-AA-3715', 'TCGA-AA-3870'): 1,\n",
       " ('TCGA-AA-3715', 'TCGA-AA-3941'): 1,\n",
       " ('TCGA-AA-3715', 'TCGA-AA-3994'): 1,\n",
       " ('TCGA-AA-3715', 'TCGA-AA-A02O'): 1,\n",
       " ('TCGA-AA-3715', 'TCGA-AA-A03F'): 1,\n",
       " ('TCGA-AA-3870', 'TCGA-AA-3941'): 1,\n",
       " ('TCGA-AA-3870', 'TCGA-AA-3994'): 1,\n",
       " ('TCGA-AA-3870', 'TCGA-AA-A02O'): 1,\n",
       " ('TCGA-AA-3870', 'TCGA-AA-A03F'): 1,\n",
       " ('TCGA-AA-3941', 'TCGA-AA-3994'): 1,\n",
       " ('TCGA-AA-3941', 'TCGA-AA-A02O'): 1,\n",
       " ('TCGA-AA-3941', 'TCGA-AA-A03F'): 1,\n",
       " ('TCGA-AA-3994', 'TCGA-AA-A02O'): 1,\n",
       " ('TCGA-AA-3994', 'TCGA-AA-A03F'): 1,\n",
       " ('TCGA-AA-A02O', 'TCGA-AA-A03F'): 1}"
      ]
     },
     "execution_count": 2,
     "metadata": {},
     "output_type": "execute_result"
    }
   ],
   "source": [
    "similarities = {} # pairwise scores/counts of similarity stored here\n",
    "for x in range(1,len(cimphigh)):\n",
    "    for y in range(1,len(cimphigh)): # iterate n^2 to get all pairwise relationships\n",
    "        if(cimphigh[x][0] == cimphigh[y][0] or (cimphigh[y][0],cimphigh[x][0]) in similarities): # skip relationships between samples with themselves, or if already in dict\n",
    "            continue\n",
    "        # calculate number of similar features between two samples\n",
    "        counter = 0\n",
    "        for k in range(1,len(cimphigh[0])-1):\n",
    "            if(float(cimphigh[x][k]) == 1.0 and float(cimphigh[y][k]) == 1.0):\n",
    "                counter += 1\n",
    "        similarities[(cimphigh[x][0],cimphigh[y][0])] = counter\n",
    "\n",
    "similarities"
   ]
  },
  {
   "cell_type": "markdown",
   "metadata": {},
   "source": [
    "### open and set up a karyotype file.\n",
    "### start by defining \"chromosomes\", eg nodes of the circo"
   ]
  },
  {
   "cell_type": "code",
   "execution_count": 3,
   "metadata": {},
   "outputs": [],
   "source": [
    "kary = open(\"karyotype.txt\",\"w\")\n",
    "\n",
    "# obtain n colors, algorithm written by Vivek Anandan user on Quora\n",
    "colors = []\n",
    "r = int(random.random() * 256)\n",
    "g = int(random.random() * 256)\n",
    "b = int(random.random() * 256)\n",
    "step = 256/numsamps\n",
    "for i in range(numsamps):\n",
    "    r += step\n",
    "    g += step\n",
    "    b += step\n",
    "    r = int(r) % 256\n",
    "    g = int(g) % 256\n",
    "    b = int(b) % 256\n",
    "    colors.append((r,g,b))\n",
    "\n",
    "kary.write(\"# initialization of samples\\n\")\n",
    "# format: chr - ID LABEL START END COLOR\n",
    "for x in range(0,len(cimphigh)-1):\n",
    "    # max thickness of the line is the total number of features\n",
    "    kary.write(\"chr - %s %s %d %d green\\n\" % (cimphigh[x+1][0],cimphigh[x+1][0], (x*6), (x*6)+numfeats)) # defines a \"chromosome\""
   ]
  },
  {
   "cell_type": "markdown",
   "metadata": {},
   "source": [
    "### create file with links (the connections between samples)"
   ]
  },
  {
   "cell_type": "code",
   "execution_count": 4,
   "metadata": {},
   "outputs": [],
   "source": [
    "# close up the karyotype file and make a links file\n",
    "kary.close()\n",
    "links = open(\"links.txt\",\"w\")\n",
    "\n",
    "links.write(\"# make links\\n\")\n",
    "#iterate over similarity scores and create a link if the score is at least 1\n",
    "count = 0\n",
    "for t1, t2 in similarities:\n",
    "    val = similarities[(t1,t2)]\n",
    "    if(val > 0):\n",
    "        count+=1\n",
    "        # link thickness will be number of similarity\n",
    "        links.write(\"link%d %s %d %d z=0,color=blue\\n\" % (count, t1, (sampnames.index(t1)*6), (sampnames.index(t1)*6)+val))\n",
    "        links.write(\"link%d %s %d %d z=0,color=blue\\n\" % (count, t2, (sampnames.index(t2)*6), (sampnames.index(t2)*6)+val))"
   ]
  },
  {
   "cell_type": "markdown",
   "metadata": {},
   "source": [
    "### next up is creating the config file. load up data and set rules for links"
   ]
  },
  {
   "cell_type": "code",
   "execution_count": 5,
   "metadata": {},
   "outputs": [],
   "source": [
    "# close up the link file and make a config file\n",
    "links.close()\n",
    "conf = open(\"circos.conf\",\"w\")\n",
    "\n",
    "\n",
    "#required config lines\n",
    "conf.write(\"\\n\\n\\n# required files from circos.ca\\n\")\n",
    "#conf.write(\"<image>\\n\")\n",
    "conf.write(\"<<include etc/image.conf>>\\n\")\n",
    "conf.write(\"<<include etc/colors_fonts_patterns.conf>>\\n\")\n",
    "conf.write(\"<<include etc/housekeeping.conf>>\\n\")\n",
    "#conf.write(\"</image>\\n\")\n",
    "\n",
    "# link karyotype\n",
    "conf.write(\"karyotype = karyotype.txt\\n\\n\")\n",
    "\n",
    "# setup links\n",
    "conf.write(\"# add links\\n\")\n",
    "conf.write(\"<links>\\n\")\n",
    "conf.write(\"show = yes\\n\")\n",
    "conf.write(\"ribbon = yes\\n\")\n",
    "conf.write(\"flat = yes\\n\")\n",
    "conf.write(\"radius = 0.975r\\n\")\n",
    "conf.write(\"bezier_radius = 0r\\n\")\n",
    "conf.write(\"color = black_a5\\n\")\n",
    "conf.write(\"thickness = 2\\n\")\n",
    "\n",
    "conf.write(\"<link>\\n\")\n",
    "conf.write(\"file = links.txt\\n\")\n",
    "\n",
    "#set rules for line thickness based on how strong similarity is\n",
    "\n",
    "conf.write(\"</link>\\n\")\n",
    "conf.write(\"</links>\\n\")\n",
    "\n",
    "# setup image\n",
    "conf.write(\"\\n# setup image\\n\")\n",
    "conf.write(\"<image>\\n\")\n",
    "conf.write(\"<<include etc/image.conf>>\\n\")\n",
    "conf.write(\"</image>\\n\")\n",
    "\n",
    "# setup ideogram\n",
    "conf.write(\"\\n# setup ideogram\\n\")\n",
    "conf.write(\"<ideogram>\\n\")\n",
    "conf.write(\"show_label = yes\\n\")\n",
    "conf.write(\"label_font = default\\n\")\n",
    "conf.write(\"label_radius = dims(ideogram,radius) + 0.075r\\n\")\n",
    "conf.write(\"label_size = 28\\n\")\n",
    "conf.write(\"label_parallel = yes\\n\")\n",
    "conf.write(\"<spacing>\\n\")\n",
    "conf.write(\"default = .07r\\n\")\n",
    "conf.write(\"break = .5r\\n\")\n",
    "conf.write(\"</spacing>\\n\\n\")\n",
    "conf.write(\"thickness = 20p\\n\")\n",
    "conf.write(\"fill = yes\\n\")\n",
    "conf.write(\"radius = 0.90r\\n\")\n",
    "conf.write(\"</ideogram>\")\n",
    "\n",
    "\n",
    "conf.close()"
   ]
  },
  {
   "cell_type": "code",
   "execution_count": null,
   "metadata": {},
   "outputs": [],
   "source": []
  }
 ],
 "metadata": {
  "kernelspec": {
   "display_name": "Python 3",
   "language": "python",
   "name": "python3"
  },
  "language_info": {
   "codemirror_mode": {
    "name": "ipython",
    "version": 3
   },
   "file_extension": ".py",
   "mimetype": "text/x-python",
   "name": "python",
   "nbconvert_exporter": "python",
   "pygments_lexer": "ipython3",
   "version": "3.6.3"
  }
 },
 "nbformat": 4,
 "nbformat_minor": 2
}
