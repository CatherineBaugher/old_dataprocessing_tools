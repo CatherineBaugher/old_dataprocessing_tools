{
 "cells": [
  {
   "cell_type": "code",
   "execution_count": 1,
   "metadata": {},
   "outputs": [
    {
     "data": {
      "text/plain": [
       "0"
      ]
     },
     "execution_count": 1,
     "metadata": {},
     "output_type": "execute_result"
    }
   ],
   "source": [
    "import os\n",
    "import csv\n",
    "\n",
    "#import data of coad and read\n",
    "clinfile = \"../../crcclasses.csv\"\n",
    "clinfile2 = \"../../crcclasses2.csv\"\n",
    "coadmutextfile = \"../../COADsomatic.csv\"\n",
    "readmutextfile = \"../../READsomatic.csv\"\n",
    "with open(coadmutextfile,'r') as f:\n",
    "        it = csv.reader(f)\n",
    "        coadmutextall = list(it)\n",
    "with open(readmutextfile,'r') as f:\n",
    "        it = csv.reader(f)\n",
    "        readmutextall = list(it)\n",
    "with open(clinfile,'r') as f:\n",
    "        it = csv.reader(f)\n",
    "        clinall = list(it)\n",
    "with open(clinfile2,'r') as f:\n",
    "        it = csv.reader(f)\n",
    "        clinall2 = list(it)\n",
    "\n",
    "samples = []\n",
    "\n",
    "len(samples)"
   ]
  },
  {
   "cell_type": "code",
   "execution_count": 2,
   "metadata": {},
   "outputs": [
    {
     "data": {
      "text/plain": [
       "4958"
      ]
     },
     "execution_count": 2,
     "metadata": {},
     "output_type": "execute_result"
    }
   ],
   "source": [
    "clinsamps = []\n",
    "for x in range(1,len(clinall)):\n",
    "    name = clinall[x][0].split(\".\")\n",
    "    inp = name[0] + '-' + name[1] + '-' + name[2] + \"-\" + name[3]\n",
    "    if(inp not in clinsamps):\n",
    "        clinsamps.append(inp)\n",
    "for x in range(1,len(clinall2)):\n",
    "    name = clinall2[x][0].split(\"-\")\n",
    "    inp = name[0] + '-' + name[1] + '-' + name[2] + \"-\" + name[3]\n",
    "    if(inp not in clinsamps):\n",
    "        clinsamps.append(inp)\n",
    "len(clinsamps)"
   ]
  },
  {
   "cell_type": "code",
   "execution_count": 11,
   "metadata": {},
   "outputs": [
    {
     "name": "stdout",
     "output_type": "stream",
     "text": [
      "5-7\n",
      "\n",
      "Tumor_Sample_Barcode\n"
     ]
    },
    {
     "ename": "IndexError",
     "evalue": "list index out of range",
     "output_type": "error",
     "traceback": [
      "\u001b[0;31m---------------------------------------------------------------------------\u001b[0m",
      "\u001b[0;31mIndexError\u001b[0m                                Traceback (most recent call last)",
      "\u001b[0;32m<ipython-input-11-cb53303e91a3>\u001b[0m in \u001b[0;36m<module>\u001b[0;34m()\u001b[0m\n\u001b[1;32m     17\u001b[0m         continue'''\n\u001b[1;32m     18\u001b[0m     \u001b[0mpieces\u001b[0m \u001b[0;34m=\u001b[0m \u001b[0mreadmutextall\u001b[0m\u001b[0;34m[\u001b[0m\u001b[0mx\u001b[0m\u001b[0;34m]\u001b[0m\u001b[0;34m[\u001b[0m\u001b[0;36m9\u001b[0m\u001b[0;34m]\u001b[0m\u001b[0;34m.\u001b[0m\u001b[0msplit\u001b[0m\u001b[0;34m(\u001b[0m\u001b[0;34m\"-\"\u001b[0m\u001b[0;34m)\u001b[0m\u001b[0;34m\u001b[0m\u001b[0m\n\u001b[0;32m---> 19\u001b[0;31m     \u001b[0minp\u001b[0m \u001b[0;34m=\u001b[0m \u001b[0mpieces\u001b[0m\u001b[0;34m[\u001b[0m\u001b[0;36m0\u001b[0m\u001b[0;34m]\u001b[0m \u001b[0;34m+\u001b[0m \u001b[0;34m\"-\"\u001b[0m \u001b[0;34m+\u001b[0m \u001b[0mpieces\u001b[0m\u001b[0;34m[\u001b[0m\u001b[0;36m1\u001b[0m\u001b[0;34m]\u001b[0m \u001b[0;34m+\u001b[0m \u001b[0;34m\"-\"\u001b[0m \u001b[0;34m+\u001b[0m \u001b[0mpieces\u001b[0m\u001b[0;34m[\u001b[0m\u001b[0;36m2\u001b[0m\u001b[0;34m]\u001b[0m \u001b[0;34m+\u001b[0m \u001b[0;34m'-'\u001b[0m \u001b[0;34m+\u001b[0m \u001b[0mpieces\u001b[0m\u001b[0;34m[\u001b[0m\u001b[0;36m3\u001b[0m\u001b[0;34m]\u001b[0m\u001b[0;34m[\u001b[0m\u001b[0;34m:\u001b[0m\u001b[0;34m-\u001b[0m\u001b[0;36m1\u001b[0m\u001b[0;34m]\u001b[0m\u001b[0;34m\u001b[0m\u001b[0m\n\u001b[0m\u001b[1;32m     20\u001b[0m     \u001b[0;32mif\u001b[0m\u001b[0;34m(\u001b[0m\u001b[0minp\u001b[0m \u001b[0;32mnot\u001b[0m \u001b[0;32min\u001b[0m \u001b[0msamples\u001b[0m\u001b[0;34m)\u001b[0m\u001b[0;34m:\u001b[0m\u001b[0;34m\u001b[0m\u001b[0m\n\u001b[1;32m     21\u001b[0m         \u001b[0msamples\u001b[0m\u001b[0;34m.\u001b[0m\u001b[0mappend\u001b[0m\u001b[0;34m(\u001b[0m\u001b[0minp\u001b[0m\u001b[0;34m)\u001b[0m\u001b[0;34m\u001b[0m\u001b[0m\n",
      "\u001b[0;31mIndexError\u001b[0m: list index out of range"
     ]
    }
   ],
   "source": [
    "dis = []\n",
    "for x in range(1,len(coadmutextall)):\n",
    "    '''if(coadmutextall[x][10] != \"Somatic\"):\n",
    "        continue'''\n",
    "    try:\n",
    "        pieces = coadmutextall[x][9].split(\"-\")\n",
    "        inp = pieces[0] + \"-\" + pieces[1] + \"-\" + pieces[2] + '-' + pieces[3][:-1]\n",
    "        if(inp not in samples):\n",
    "            samples.append(inp)\n",
    "        if(inp not in clinsamps):\n",
    "            if(inp not in dis):\n",
    "                dis.append(inp)\n",
    "    except:\n",
    "        print(coadmutextall[x][9])\n",
    "for x in range(1,len(readmutextall)):\n",
    "    '''if(coadmutextall[x][10] != \"Somatic\"):\n",
    "        continue'''\n",
    "    pieces = readmutextall[x][9].split(\"-\")\n",
    "    inp = pieces[0] + \"-\" + pieces[1] + \"-\" + pieces[2] + '-' + pieces[3][:-1]\n",
    "    if(inp not in samples):\n",
    "        samples.append(inp)\n",
    "    if(inp not in clinsamps):\n",
    "        if(inp not in dis):\n",
    "            dis.append(inp)\n",
    "len(dis)"
   ]
  },
  {
   "cell_type": "code",
   "execution_count": 4,
   "metadata": {},
   "outputs": [
    {
     "data": {
      "text/plain": [
       "4689"
      ]
     },
     "execution_count": 4,
     "metadata": {},
     "output_type": "execute_result"
    }
   ],
   "source": [
    "len(clinall2)"
   ]
  },
  {
   "cell_type": "code",
   "execution_count": 6,
   "metadata": {},
   "outputs": [
    {
     "data": {
      "text/plain": [
       "535"
      ]
     },
     "execution_count": 6,
     "metadata": {},
     "output_type": "execute_result"
    }
   ],
   "source": [
    "len(samples)"
   ]
  },
  {
   "cell_type": "code",
   "execution_count": null,
   "metadata": {},
   "outputs": [],
   "source": []
  }
 ],
 "metadata": {
  "kernelspec": {
   "display_name": "Python 3",
   "language": "python",
   "name": "python3"
  },
  "language_info": {
   "codemirror_mode": {
    "name": "ipython",
    "version": 3
   },
   "file_extension": ".py",
   "mimetype": "text/x-python",
   "name": "python",
   "nbconvert_exporter": "python",
   "pygments_lexer": "ipython3",
   "version": "3.6.3"
  }
 },
 "nbformat": 4,
 "nbformat_minor": 2
}
