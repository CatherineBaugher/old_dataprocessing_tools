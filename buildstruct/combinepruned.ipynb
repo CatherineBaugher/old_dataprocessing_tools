{
 "cells": [
  {
   "cell_type": "code",
   "execution_count": 1,
   "metadata": {},
   "outputs": [
    {
     "data": {
      "text/plain": [
       "['',\n",
       " 'BRAF_GRCh37_7:140453136-140453136_Missense-Mutation-SNP-A-A-T_Missense-Mutation-SNP-A-T-T',\n",
       " 'GRB14_GRCh37_2:165365288-165365296_In-Frame-Del-DEL-TTTTTTTTT----',\n",
       " 'MBD4_GRCh37_3:129155548-129155557_Frame-Shift-Del-DEL-TTTTTTTTTT----',\n",
       " 'MSH6_GRCh37_2:48030640-48030647_Frame-Shift-Del-DEL-CCCCCCCC----',\n",
       " 'PRDM2_GRCh37_1:14108749-14108757_In-Frame-Del-DEL-AAAAAAAAA----',\n",
       " 'HMMR_GRCh37_5:162917426-162917434_In-Frame-Del-DEL-AAAAAAAAA----',\n",
       " 'SEC63_GRCh37_6:108214755-108214764_Frame-Shift-Del-DEL-TTTTTTTTTT----',\n",
       " 'KRAS_GRCh37_12:25398284-25398284_Missense-Mutation-SNP-C-T-T',\n",
       " 'PIK3CA_GRCh37_3:178952085-178952085_Missense-Mutation-SNP-A-G-G',\n",
       " 'RAD50_GRCh37_5:131931452-131931460_In-Frame-Del-DEL-AAAAAAAAA----',\n",
       " 'ACVR2A_GRCh37_2:148683686-148683693_Frame-Shift-Del-DEL-AAAAAAAA----',\n",
       " 'CASP5_GRCh37_11:104878041-104878050_Frame-Shift-Del-DEL-TTTTTTTTTT----',\n",
       " 'MSH3_GRCh37_5:79970915-79970922_Frame-Shift-Del-DEL-AAAAAAAA----',\n",
       " 'ATR_GRCh37_3:142274740-142274749_Frame-Shift-Del-DEL-TTTTTTTTTT----',\n",
       " 'TGFBR2_GRCh37_3:30691872-30691881_Frame-Shift-Del-DEL-AAAAAAAAAA----',\n",
       " 'AIM2_GRCh37_1:159032487-159032496_Frame-Shift-Del-DEL-TTTTTTTTTT----',\n",
       " 'TCF7L2_GRCh37_10:114925317-114925325_In-Frame-Del-DEL-AAAAAAAAA----']"
      ]
     },
     "execution_count": 1,
     "metadata": {},
     "output_type": "execute_result"
    }
   ],
   "source": [
    "#combine features\n",
    "import os\n",
    "import csv\n",
    "\n",
    "with open(\"../../3ormoreDATLOW.csv\",'r') as f:\n",
    "        it = csv.reader(f)\n",
    "        listit = list(it)\n",
    "\n",
    "presents = {} #map samp to all present mutations\n",
    "firstrow = [\"\"] #this will list all mutations at the top\n",
    "#find mutations within various samples, cut off past\n",
    "for x in range(1,len(listit)):\n",
    "    inp = listit[x][0]\n",
    "    presents[inp] = []\n",
    "    for y in range(1,len(listit[0])-1):\n",
    "        if(float(listit[x][y]) == 0.0):\n",
    "            continue\n",
    "        pieces = listit[0][y].split(\"_\")\n",
    "        #remake name properly to combined format\n",
    "        #eg: FBXW7_GRCh37_4:153247289-153247289_MissenseMutationSNP-G-G-C_MissenseMutationSNP-G-A-A\n",
    "        firstpart = pieces[0] + \"_\" + pieces[1] + \"_\" + pieces[2]\n",
    "        descriptor = \"\"\n",
    "        for m in range(3,len(pieces)):\n",
    "            descriptor += pieces[m] + \"-\" #TODO: maybe it could be made more readable than this?\n",
    "        descriptor = descriptor[:-1]\n",
    "        descriptor = descriptor.replace('_','')\n",
    "        flag = False\n",
    "        for k in range(0,len(firstrow)):\n",
    "            if(firstrow[k] == \"\"):\n",
    "                continue\n",
    "            parts = firstrow[k].split(\"_\")\n",
    "            newparts = parts[0] + '_' + parts[1] + '_' + parts[2]\n",
    "            if firstpart == newparts:\n",
    "                #print(firstpart)\n",
    "                flag = True #feature is already in set\n",
    "                if(descriptor in parts):\n",
    "                    #this mutation is already in the name\n",
    "                    break\n",
    "                else:\n",
    "                    #append new mutation type\n",
    "                    firstrow[k] = firstrow[k] + \"_\" + descriptor\n",
    "\n",
    "        if not flag: #we have a new mutation\n",
    "            firstrow.append(firstpart+\"_\"+descriptor)\n",
    "\n",
    "        if inp in presents:\n",
    "            presents[inp].append(firstpart)\n",
    "        else:\n",
    "            presents[inp] = [firstpart]\n",
    "\n",
    "        \n",
    "firstrow"
   ]
  },
  {
   "cell_type": "code",
   "execution_count": 2,
   "metadata": {},
   "outputs": [
    {
     "name": "stdout",
     "output_type": "stream",
     "text": [
      "num features 17\n"
     ]
    },
    {
     "data": {
      "text/plain": [
       "224"
      ]
     },
     "execution_count": 2,
     "metadata": {},
     "output_type": "execute_result"
    }
   ],
   "source": [
    "firstrow.append(\"class\")\n",
    "numfeats = len(firstrow) - 2\n",
    "print(\"num features\",str(numfeats))\n",
    "\n",
    "#find foreground vs. background\n",
    "newset = [firstrow]\n",
    "foreback = {}\n",
    "for x in range(1,len(listit)):\n",
    "    if listit[x][0] in foreback:\n",
    "        print(\"ERROR.\") #multiple of same sample\n",
    "    else:\n",
    "        if(float(listit[x][len(listit[0])-1]) == 1.0):\n",
    "            foreback[listit[x][0]] = \"1.0\"\n",
    "        elif(float(listit[x][len(listit[0])-1]) == 2.0):\n",
    "            foreback[listit[x][0]] = \"2.0\"\n",
    "        else:\n",
    "            foreback[listit[x][0]] = \"-1.0\"\n",
    "\n",
    "#attach to new matrix\n",
    "for key,muts in presents.items():\n",
    "    nextrow = []\n",
    "    nextrow.append(key)\n",
    "    for item in firstrow:\n",
    "        if(item != \"\" and item != \"class\"):\n",
    "            deconstruct = item.split(\"_\")\n",
    "            item = (deconstruct[0] + \"_\" + deconstruct[1] + \"_\" + deconstruct[2])\n",
    "            if item in muts:\n",
    "                nextrow.append(\"1.0\")\n",
    "            else:\n",
    "                nextrow.append(\"0.0\")\n",
    "    nextrow.append(foreback[key])\n",
    "    newset.append(nextrow)\n",
    "\n",
    "with open(\"../../3ormoreDATLOW.csv\",\"w\") as fun:\n",
    "    writer = csv.writer(fun)\n",
    "    writer.writerows(newset)\n",
    "    \n",
    "len(presents)"
   ]
  },
  {
   "cell_type": "code",
   "execution_count": 3,
   "metadata": {},
   "outputs": [
    {
     "data": {
      "text/plain": [
       "'\\nexamine = [\"KRAS_GRCh37_12:25398284-25398284_Missense-Mutation-SNP-C-T-T_Missense-Mutation-SNP-C-A-A\",\"BRAF_GRCh37_7:140453136-140453136_Missense-Mutation-SNP-A-A-T_Missense-Mutation-SNP-A-T-T\"]\\nfor feature in examine:\\n    y = newset[0].index(feature)\\n    fp = tp = 0\\n    for x in range(1, len(newset)):\\n        if(float(newset[x][y]) == 1.0):\\n            if(float(newset[x][len(newset[0])-1]) == -1.0):\\n                fp += 1\\n            else:\\n                tp += 1\\n    print(feature,\" FP:\",fp,\" TP:\",tp)\\n'"
      ]
     },
     "execution_count": 3,
     "metadata": {},
     "output_type": "execute_result"
    }
   ],
   "source": [
    "#take a look at newly combined features\n",
    "'''\n",
    "examine = [\"KRAS_GRCh37_12:25398284-25398284_Missense-Mutation-SNP-C-T-T_Missense-Mutation-SNP-C-A-A\",\"BRAF_GRCh37_7:140453136-140453136_Missense-Mutation-SNP-A-A-T_Missense-Mutation-SNP-A-T-T\"]\n",
    "for feature in examine:\n",
    "    y = newset[0].index(feature)\n",
    "    fp = tp = 0\n",
    "    for x in range(1, len(newset)):\n",
    "        if(float(newset[x][y]) == 1.0):\n",
    "            if(float(newset[x][len(newset[0])-1]) == -1.0):\n",
    "                fp += 1\n",
    "            else:\n",
    "                tp += 1\n",
    "    print(feature,\" FP:\",fp,\" TP:\",tp)\n",
    "'''"
   ]
  },
  {
   "cell_type": "code",
   "execution_count": null,
   "metadata": {},
   "outputs": [],
   "source": []
  }
 ],
 "metadata": {
  "kernelspec": {
   "display_name": "Python 3",
   "language": "python",
   "name": "python3"
  },
  "language_info": {
   "codemirror_mode": {
    "name": "ipython",
    "version": 3
   },
   "file_extension": ".py",
   "mimetype": "text/x-python",
   "name": "python",
   "nbconvert_exporter": "python",
   "pygments_lexer": "ipython3",
   "version": "3.6.3"
  }
 },
 "nbformat": 4,
 "nbformat_minor": 2
}
