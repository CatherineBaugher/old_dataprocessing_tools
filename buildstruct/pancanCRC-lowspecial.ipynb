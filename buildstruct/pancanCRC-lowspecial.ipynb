{
 "cells": [
  {
   "cell_type": "code",
   "execution_count": 1,
   "metadata": {},
   "outputs": [
    {
     "name": "stdout",
     "output_type": "stream",
     "text": [
      "finished loading\n"
     ]
    }
   ],
   "source": [
    "#This builds a dataset using new criteria:\n",
    "#Mutations at the same coordinates are treated as one\n",
    "#CIMP low is considered its own class: 2.0\n",
    "#There exists a control set! for these samples, place them in their own dataset\n",
    "import os\n",
    "import csv\n",
    "\n",
    "#import data of coad and read\n",
    "clinfile = \"../../crcclasses.csv\"\n",
    "clinfile2 = \"../../crcclasses2.csv\"\n",
    "coadmutextfile = \"../../COADsomatic.csv\"\n",
    "readmutextfile = \"../../READsomatic.csv\"\n",
    "with open(coadmutextfile,'r') as f:\n",
    "        it = csv.reader(f)\n",
    "        coadmutextall = list(it)\n",
    "with open(readmutextfile,'r') as f:\n",
    "        it = csv.reader(f)\n",
    "        readmutextall = list(it)\n",
    "with open(clinfile,'r') as f:\n",
    "        it = csv.reader(f)\n",
    "        clinall = list(it)\n",
    "with open(clinfile2,'r') as f:\n",
    "        it = csv.reader(f)\n",
    "        clinall2 = list(it)\n",
    "        \n",
    "print(\"finished loading\")"
   ]
  },
  {
   "cell_type": "code",
   "execution_count": 2,
   "metadata": {},
   "outputs": [],
   "source": [
    "# build dictionary with classifications\n",
    "myclass = ''\n",
    "foreback = {}\n",
    "for row in clinall:\n",
    "    if(row[0] == \"\"):\n",
    "        continue\n",
    "    if(row[2] == 'Normal'):\n",
    "        myclass = 'c'\n",
    "    elif(row[2] == 'CIMP+'):\n",
    "        myclass = '1.0'\n",
    "    elif(row[2] == 'CIMPi'):\n",
    "        myclass = '2.0'\n",
    "    elif(row[2] == 'CIMP-'):\n",
    "        myclass = '-1.0'\n",
    "    else:\n",
    "        print(\"alert\")\n",
    "    name = row[0].split(\".\")\n",
    "    foreback[name[0]+'-'+name[1]+'-'+name[2]+'-'+name[3]] = myclass\n",
    "for row in clinall2:\n",
    "    if(row[0] == \"\"):\n",
    "        continue\n",
    "    if(row[2] == 'control'):\n",
    "        myclass = 'c'\n",
    "    elif(row[2] == 'CIMP+'):\n",
    "        myclass = '1.0'\n",
    "    elif(row[2] == 'CIMPi'):\n",
    "        myclass = '2.0'\n",
    "    elif(row[2] == 'CIMP-'):\n",
    "        myclass = '-1.0'\n",
    "    else:\n",
    "        print(\"alert\")\n",
    "    name = row[0].split(\"-\")\n",
    "    foreback[name[0]+'-'+name[1]+'-'+name[2]+'-'+name[3]] = myclass\n",
    "\n",
    "del clinall\n"
   ]
  },
  {
   "cell_type": "markdown",
   "metadata": {},
   "source": [
    "### parse through mutations and data_clinical to store unique mutations and their associated samples"
   ]
  },
  {
   "cell_type": "code",
   "execution_count": 3,
   "metadata": {},
   "outputs": [
    {
     "data": {
      "text/plain": [
       "['', 'class']"
      ]
     },
     "execution_count": 3,
     "metadata": {},
     "output_type": "execute_result"
    }
   ],
   "source": [
    "presents = {} #map samp to all present mutations\n",
    "presents_control = {}\n",
    "realrow = [\"\"] #preprocessing needs to be done so only mutations with more than one occurrence is shown\n",
    "firstrow = [\"\"] #this will list all mutations at the top\n",
    "firstrow_control = [\"\"]\n",
    "discardmuts = []\n",
    "discardsamps = []\n",
    "notinforeback = []\n",
    "#coad first\n",
    "#find mutations within various samples, cut off past\n",
    "for x in range(1,len(coadmutextall)):\n",
    "    #only use the \"mutation\" if it's labelled somatic...\n",
    "    if(coadmutextall[x][10] != \"Somatic\"):\n",
    "        continue\n",
    "    pieces = coadmutextall[x][9].split(\"-\")\n",
    "    inp = pieces[0] + \"-\" + pieces[1] + \"-\" + pieces[2] + '-' + pieces[3][:-1]\n",
    "    newmut = (coadmutextall[x][0] +\"_GRCh38_\"+ coadmutextall[x][1][3:] + \":\" +coadmutextall[x][2] + \"-\"+ coadmutextall[x][3] + \"_\" + coadmutextall[x][4] +\"_\"+ coadmutextall[x][5] + \"_\" + coadmutextall[x][6] + \"_\" + coadmutextall[x][7] + \"_\" + coadmutextall[x][8])\n",
    "    if(inp not in foreback):\n",
    "        if(inp not in notinforeback):\n",
    "            notinforeback.append(inp)\n",
    "        if(inp not in discardsamps):\n",
    "            discardsamps.append(inp)\n",
    "        if(newmut not in discardmuts):\n",
    "            discardmuts.append(newmut)\n",
    "        continue\n",
    "    #if we get to this point, the sample is valid\n",
    "    #we next need to check if it is a control. if so, it goes into its own data set\n",
    "    if(foreback[inp] == 'c'):\n",
    "        if newmut not in firstrow_control:\n",
    "            firstrow_control.append(newmut)\n",
    "        if inp in presents_control:\n",
    "            presents_control[inp].append(newmut)\n",
    "        else:\n",
    "            presents_control[inp] = [newmut]\n",
    "        continue\n",
    "    #if we get to this point, the sample is not control\n",
    "    if newmut not in firstrow:\n",
    "        firstrow.append(newmut)\n",
    "    else:\n",
    "        realrow.append(newmut) #it has occurred at least twice\n",
    "    if inp in presents:\n",
    "        presents[inp].append(newmut)\n",
    "    else:\n",
    "        presents[inp] = [newmut]\n",
    "#now do the same thing with read        \n",
    "for x in range(1,len(readmutextall)):\n",
    "    #only use the \"mutation\" if it's labelled somatic...\n",
    "    if(readmutextall[x][10] != \"Somatic\"):\n",
    "        continue\n",
    "    pieces = readmutextall[x][9].split(\"-\")\n",
    "    newmut = (readmutextall[x][0] +\"_GRCh38_\"+ readmutextall[x][1][3:] + \":\" +readmutextall[x][2] + \"-\"+ readmutextall[x][3] + \"_\" + readmutextall[x][4] +\"_\"+ readmutextall[x][5] + \"_\" + readmutextall[x][6] + \"_\" + readmutextall[x][7] + \"_\" + readmutextall[x][8])\n",
    "    inp = pieces[0] + \"-\" + pieces[1] + \"-\" + pieces[2] + '-' + pieces[3][:-1]\n",
    "    if(inp not in foreback):\n",
    "        if(inp not in notinforeback):\n",
    "            notinforeback.append(inp)\n",
    "        if(inp not in discardsamps):\n",
    "            discardsamps.append(inp)\n",
    "        if(newmut not in discardmuts):\n",
    "            discardmuts.append(newmut)\n",
    "        continue\n",
    "    #we next need to check if it is a control. if so, it goes into its own data set\n",
    "    if(foreback[inp] == 'c'):\n",
    "        if newmut not in firstrow_control:\n",
    "            firstrow_control.append(newmut)\n",
    "        if inp in presents_control:\n",
    "            presents_control[inp].append(newmut)\n",
    "        else:\n",
    "            presents_control[inp] = [newmut]\n",
    "        continue\n",
    "    #if we get to this point, the sample is not control\n",
    "    if newmut not in firstrow:\n",
    "        firstrow.append(newmut)\n",
    "    else:\n",
    "        realrow.append(newmut)\n",
    "    if inp in presents:\n",
    "        presents[inp].append(newmut)\n",
    "    else:\n",
    "        presents[inp] = [newmut]\n",
    "realrow.append(\"class\")\n",
    "firstrow.append(\"class\")\n",
    "firstrow_control.append(\"class\")\n",
    "firstrow_control"
   ]
  },
  {
   "cell_type": "code",
   "execution_count": 4,
   "metadata": {},
   "outputs": [
    {
     "name": "stdout",
     "output_type": "stream",
     "text": [
      "num features:  15747\n",
      "num features in control set:  0\n"
     ]
    }
   ],
   "source": [
    "numfeats = len(realrow) - 2\n",
    "pruned = len(firstrow) - len(realrow)\n",
    "numfeats_control = len(firstrow_control) - 2\n",
    "\n",
    "print(\"num features: \",str(numfeats))\n",
    "print(\"num features in control set: \",str(numfeats_control))\n",
    "#find foreground vs. background\n",
    "\n",
    "#newset = [firstrow]\n",
    "newset = [realrow]\n",
    "newset_control = [firstrow_control]\n",
    "\n",
    "#attach to new matrix\n",
    "for key,muts in presents.items():\n",
    "    nextrow = [key]\n",
    "    #for item in firstrow:\n",
    "    for item in realrow:\n",
    "        if(item != \"\" and item != \"class\"):\n",
    "            if item in muts:\n",
    "                nextrow.append(\"1.0\")\n",
    "            else:\n",
    "                nextrow.append(\"0.0\")\n",
    "    nextrow.append(foreback[key])\n",
    "    newset.append(nextrow)\n",
    "\n",
    "#do same for control group    \n",
    "for key,muts in presents_control.items():\n",
    "    nextrow = [key]\n",
    "    for item in firstrow_control:\n",
    "        if(item != \"\" and item != \"class\"):\n",
    "            if item in muts:\n",
    "                nextrow.append(\"1.0\")\n",
    "            else:\n",
    "                nextrow.append(\"0.0\")\n",
    "    nextrow.append(foreback[key])\n",
    "    newset_control.append(nextrow)\n",
    "    \n",
    "with open(\"../../PANCANcoadread.csv\",\"w\") as fun:\n",
    "    writer = csv.writer(fun)\n",
    "    writer.writerows(newset)\n",
    "with open(\"../../PANCANcoadread_control.csv\",\"w\") as fun:\n",
    "    writer = csv.writer(fun)\n",
    "    writer.writerows(newset_control)"
   ]
  },
  {
   "cell_type": "code",
   "execution_count": 5,
   "metadata": {},
   "outputs": [
    {
     "name": "stdout",
     "output_type": "stream",
     "text": [
      "high:  143  low:  182  neg:  175  control:  0\n",
      "501\n"
     ]
    }
   ],
   "source": [
    "hcount = 0\n",
    "lcount = 0\n",
    "ncount = 0\n",
    "ccount = 0\n",
    "for row in newset:\n",
    "    if(row[0] == \"\"):\n",
    "        continue\n",
    "    if(row[len(newset[0])-1] == 'c'):\n",
    "        ccount += 1\n",
    "    elif(float(row[len(newset[0])-1]) == 1.0):\n",
    "        hcount += 1\n",
    "    elif(float(row[len(newset[0])-1]) == 2.0):\n",
    "        lcount += 1\n",
    "    elif(float(row[len(newset[0])-1]) == -1.0):\n",
    "        ncount += 1\n",
    "print(\"high: \",hcount,\" low: \",lcount,\" neg: \",ncount, \" control: \",ccount)\n",
    "print(len(newset))"
   ]
  },
  {
   "cell_type": "code",
   "execution_count": 6,
   "metadata": {},
   "outputs": [
    {
     "data": {
      "text/plain": [
       "35"
      ]
     },
     "execution_count": 6,
     "metadata": {},
     "output_type": "execute_result"
    }
   ],
   "source": [
    "len(discardsamps)"
   ]
  },
  {
   "cell_type": "code",
   "execution_count": 7,
   "metadata": {},
   "outputs": [
    {
     "data": {
      "text/plain": [
       "15208"
      ]
     },
     "execution_count": 7,
     "metadata": {},
     "output_type": "execute_result"
    }
   ],
   "source": [
    "newdiscardmuts = [item for item in discardmuts if item not in newset[0]]\n",
    "len(newdiscardmuts)"
   ]
  },
  {
   "cell_type": "code",
   "execution_count": 8,
   "metadata": {},
   "outputs": [
    {
     "data": {
      "text/plain": [
       "1"
      ]
     },
     "execution_count": 8,
     "metadata": {},
     "output_type": "execute_result"
    }
   ],
   "source": [
    "len(newset_control)"
   ]
  },
  {
   "cell_type": "code",
   "execution_count": 9,
   "metadata": {},
   "outputs": [
    {
     "data": {
      "text/plain": [
       "15747"
      ]
     },
     "execution_count": 9,
     "metadata": {},
     "output_type": "execute_result"
    }
   ],
   "source": [
    "len(newset[0])-2"
   ]
  },
  {
   "cell_type": "code",
   "execution_count": 10,
   "metadata": {},
   "outputs": [
    {
     "data": {
      "text/plain": [
       "0"
      ]
     },
     "execution_count": 10,
     "metadata": {},
     "output_type": "execute_result"
    }
   ],
   "source": [
    "len(newset_control[0])-2"
   ]
  },
  {
   "cell_type": "code",
   "execution_count": 11,
   "metadata": {},
   "outputs": [
    {
     "name": "stdout",
     "output_type": "stream",
     "text": [
      "Number of features with only one occurrence:  253933\n"
     ]
    }
   ],
   "source": [
    "print(\"Number of features with only one occurrence: \",pruned)"
   ]
  },
  {
   "cell_type": "code",
   "execution_count": 12,
   "metadata": {},
   "outputs": [
    {
     "data": {
      "text/plain": [
       "4959"
      ]
     },
     "execution_count": 12,
     "metadata": {},
     "output_type": "execute_result"
    }
   ],
   "source": [
    "len(foreback)"
   ]
  },
  {
   "cell_type": "code",
   "execution_count": 13,
   "metadata": {},
   "outputs": [
    {
     "data": {
      "text/plain": [
       "['TCGA-5M-AAT5-01',\n",
       " 'TCGA-AY-A71X-01',\n",
       " 'TCGA-WS-AB45-01',\n",
       " 'TCGA-T9-A92H-01',\n",
       " 'TCGA-AY-A69D-01',\n",
       " 'TCGA-RU-A8FL-01',\n",
       " 'TCGA-5M-AATA-01',\n",
       " 'TCGA-4N-A93T-01',\n",
       " 'TCGA-AA-3841-01',\n",
       " 'TCGA-QL-A97D-01',\n",
       " 'TCGA-NH-A5IV-01',\n",
       " 'TCGA-NH-A6GA-01',\n",
       " 'TCGA-NH-A6GC-01',\n",
       " 'TCGA-5M-AAT4-01',\n",
       " 'TCGA-AA-3675-01',\n",
       " 'TCGA-3L-AA1B-01',\n",
       " 'TCGA-NH-A50U-01',\n",
       " 'TCGA-NH-A6GB-01',\n",
       " 'TCGA-5M-AATE-01',\n",
       " 'TCGA-SS-A7HO-01',\n",
       " 'TCGA-NH-A8F7-01',\n",
       " 'TCGA-NH-A8F8-01',\n",
       " 'TCGA-5M-AAT6-01',\n",
       " 'TCGA-AY-A8YK-01',\n",
       " 'TCGA-AA-3967-01',\n",
       " 'TCGA-4T-AA8H-01',\n",
       " 'TCGA-AG-3906-01',\n",
       " 'TCGA-AF-5654-01',\n",
       " 'TCGA-AG-4009-01',\n",
       " 'TCGA-AF-A56K-01',\n",
       " 'TCGA-AF-3914-01',\n",
       " 'TCGA-AG-3728-01',\n",
       " 'TCGA-AF-A56N-01',\n",
       " 'TCGA-AG-3891-01',\n",
       " 'TCGA-AF-A56L-01']"
      ]
     },
     "execution_count": 13,
     "metadata": {},
     "output_type": "execute_result"
    }
   ],
   "source": [
    "notinforeback"
   ]
  },
  {
   "cell_type": "code",
   "execution_count": 14,
   "metadata": {},
   "outputs": [
    {
     "data": {
      "text/plain": [
       "15812"
      ]
     },
     "execution_count": 14,
     "metadata": {},
     "output_type": "execute_result"
    }
   ],
   "source": [
    "len(discardmuts)"
   ]
  },
  {
   "cell_type": "code",
   "execution_count": null,
   "metadata": {},
   "outputs": [],
   "source": []
  }
 ],
 "metadata": {
  "kernelspec": {
   "display_name": "Python 3",
   "language": "python",
   "name": "python3"
  },
  "language_info": {
   "codemirror_mode": {
    "name": "ipython",
    "version": 3
   },
   "file_extension": ".py",
   "mimetype": "text/x-python",
   "name": "python",
   "nbconvert_exporter": "python",
   "pygments_lexer": "ipython3",
   "version": "3.6.3"
  }
 },
 "nbformat": 4,
 "nbformat_minor": 2
}
