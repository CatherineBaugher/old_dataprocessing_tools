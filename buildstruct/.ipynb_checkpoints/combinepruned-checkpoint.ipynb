{
 "cells": [
  {
   "cell_type": "code",
   "execution_count": 1,
   "metadata": {},
   "outputs": [
    {
     "data": {
      "text/plain": [
       "39"
      ]
     },
     "execution_count": 1,
     "metadata": {},
     "output_type": "execute_result"
    }
   ],
   "source": [
    "#combine features\n",
    "import os\n",
    "import csv\n",
    "\n",
    "with open(\"../../pruned1DATSPECIAL.csv\",'r') as f:\n",
    "        it = csv.reader(f)\n",
    "        listit = list(it)\n",
    "\n",
    "presents = {} #map samp to all present mutations\n",
    "firstrow = [\"\"] #this will list all mutations at the top\n",
    "#find mutations within various samples, cut off past\n",
    "for x in range(1,len(listit)):\n",
    "    inp = listit[x][0]\n",
    "    for y in range(1,len(listit[0])-1):\n",
    "        if(float(listit[x][y]) == 0.0):\n",
    "            continue\n",
    "        pieces = listit[0][y].split(\"_\")\n",
    "        #remake name properly to combined format\n",
    "        #eg: FBXW7_GRCh37_4:153247289-153247289_MissenseMutationSNP-G-G-C_MissenseMutationSNP-G-A-A\n",
    "        firstpart = pieces[0] + \"_\" + pieces[1] + \"_\" + pieces[2]\n",
    "        descriptor = \"\"\n",
    "        for m in range(3,len(pieces)):\n",
    "            descriptor += pieces[m] + \"-\" #TODO: maybe it could be made more readable than this?\n",
    "        descriptor = descriptor[:-1]\n",
    "        descriptor = descriptor.replace('_','')\n",
    "        flag = False\n",
    "        for k in range(0,len(firstrow)):\n",
    "            if(firstrow[k] == \"\"):\n",
    "                continue\n",
    "            parts = firstrow[k].split(\"_\")\n",
    "            newparts = parts[0] + '_' + parts[1] + '_' + parts[2]\n",
    "            if firstpart == newparts:\n",
    "                #print(firstpart)\n",
    "                flag = True #feature is already in set\n",
    "                if(descriptor in parts):\n",
    "                    #this mutation is already in the name\n",
    "                    break\n",
    "                else:\n",
    "                    #append new mutation type\n",
    "                    firstrow[k] = firstrow[k] + \"_\" + descriptor\n",
    "\n",
    "        if not flag: #we have a new mutation\n",
    "            firstrow.append(firstpart+\"_\"+descriptor)\n",
    "\n",
    "        if inp in presents:\n",
    "            presents[inp].append(firstpart)\n",
    "        else:\n",
    "            presents[inp] = [firstpart]\n",
    "\n",
    "        \n",
    "firstrow"
   ]
  },
  {
   "cell_type": "code",
   "execution_count": 2,
   "metadata": {},
   "outputs": [
    {
     "name": "stdout",
     "output_type": "stream",
     "text": [
      "num features 39\n"
     ]
    }
   ],
   "source": [
    "firstrow.append(\"class\")\n",
    "numfeats = len(firstrow) - 2\n",
    "print(\"num features\",str(numfeats))\n",
    "\n",
    "#find foreground vs. background\n",
    "newset = [firstrow]\n",
    "foreback = {}\n",
    "for x in range(1,len(listit)):\n",
    "    if listit[x][0] in foreback:\n",
    "        print(\"ERROR.\") #multiple of same sample\n",
    "    else:\n",
    "        if(float(listit[x][len(listit[0])-1]) == 1.0):\n",
    "            foreback[listit[x][0]] = \"1.0\"\n",
    "        elif(float(listit[x][len(listit[0])-1]) == 2.0):\n",
    "            foreback[listit[x][0]] = \"2.0\"\n",
    "        else:\n",
    "            foreback[listit[x][0]] = \"-1.0\"\n",
    "\n",
    "#attach to new matrix\n",
    "for key,muts in presents.items():\n",
    "    nextrow = []\n",
    "    nextrow.append(key)\n",
    "    for item in firstrow:\n",
    "        if(item != \"\" and item != \"class\"):\n",
    "            deconstruct = item.split(\"_\")\n",
    "            item = (deconstruct[0] + \"_\" + deconstruct[1] + \"_\" + deconstruct[2])\n",
    "            if item in muts:\n",
    "                nextrow.append(\"1.0\")\n",
    "            else:\n",
    "                nextrow.append(\"0.0\")\n",
    "    nextrow.append(foreback[key])\n",
    "    newset.append(nextrow)\n",
    "\n",
    "with open(\"../../pruned2DATSPECIAL.csv\",\"w\") as fun:\n",
    "    writer = csv.writer(fun)\n",
    "    writer.writerows(newset)"
   ]
  },
  {
   "cell_type": "code",
   "execution_count": 3,
   "metadata": {},
   "outputs": [
    {
     "data": {
      "text/plain": [
       "'\\nexamine = [\"KRAS_GRCh37_12:25398284-25398284_Missense-Mutation-SNP-C-T-T_Missense-Mutation-SNP-C-A-A\",\"BRAF_GRCh37_7:140453136-140453136_Missense-Mutation-SNP-A-A-T_Missense-Mutation-SNP-A-T-T\"]\\nfor feature in examine:\\n    y = newset[0].index(feature)\\n    fp = tp = 0\\n    for x in range(1, len(newset)):\\n        if(float(newset[x][y]) == 1.0):\\n            if(float(newset[x][len(newset[0])-1]) == -1.0):\\n                fp += 1\\n            else:\\n                tp += 1\\n    print(feature,\" FP:\",fp,\" TP:\",tp)\\n'"
      ]
     },
     "execution_count": 3,
     "metadata": {},
     "output_type": "execute_result"
    }
   ],
   "source": [
    "#take a look at newly combined features\n",
    "'''\n",
    "examine = [\"KRAS_GRCh37_12:25398284-25398284_Missense-Mutation-SNP-C-T-T_Missense-Mutation-SNP-C-A-A\",\"BRAF_GRCh37_7:140453136-140453136_Missense-Mutation-SNP-A-A-T_Missense-Mutation-SNP-A-T-T\"]\n",
    "for feature in examine:\n",
    "    y = newset[0].index(feature)\n",
    "    fp = tp = 0\n",
    "    for x in range(1, len(newset)):\n",
    "        if(float(newset[x][y]) == 1.0):\n",
    "            if(float(newset[x][len(newset[0])-1]) == -1.0):\n",
    "                fp += 1\n",
    "            else:\n",
    "                tp += 1\n",
    "    print(feature,\" FP:\",fp,\" TP:\",tp)\n",
    "'''"
   ]
  },
  {
   "cell_type": "code",
   "execution_count": null,
   "metadata": {},
   "outputs": [],
   "source": []
  }
 ],
 "metadata": {
  "kernelspec": {
   "display_name": "Python 3",
   "language": "python",
   "name": "python3"
  },
  "language_info": {
   "codemirror_mode": {
    "name": "ipython",
    "version": 3
   },
   "file_extension": ".py",
   "mimetype": "text/x-python",
   "name": "python",
   "nbconvert_exporter": "python",
   "pygments_lexer": "ipython3",
   "version": "3.6.3"
  }
 },
 "nbformat": 4,
 "nbformat_minor": 2
}
