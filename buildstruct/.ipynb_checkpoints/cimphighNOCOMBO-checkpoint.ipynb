{
 "cells": [
  {
   "cell_type": "code",
   "execution_count": 2,
   "metadata": {},
   "outputs": [
    {
     "data": {
      "text/plain": [
       "2020"
      ]
     },
     "execution_count": 2,
     "metadata": {},
     "output_type": "execute_result"
    }
   ],
   "source": [
    "#This builds a dataset using new criteria:\n",
    "#Mutations at the same coordinates are treated as one\n",
    "#CIMP low is considered CIMP+\n",
    "import os\n",
    "import csv\n",
    "\n",
    "datclinfile = \"../../data_clinical.csv\"\n",
    "mutextfile = \"../../data_mutations_extended.csv\"\n",
    "with open(datclinfile,'r') as f:\n",
    "        it = csv.reader(f)\n",
    "        datclinall = list(it)\n",
    "with open(mutextfile,'r') as f:\n",
    "        it = csv.reader(f)\n",
    "        mutextall = list(it)\n",
    "\n",
    "presents = {} #map samp to all present mutations\n",
    "firstrow = [\"\"] #this will list all mutations at the top\n",
    "#find mutations within various samples, cut off past\n",
    "for x in range(1,len(mutextall)):\n",
    "    #only use the \"mutation\" if it's labelled somatic...\n",
    "    if(mutextall[x][25] != \"Somatic\"):\n",
    "        continue\n",
    "    pieces = mutextall[x][15].split(\"-\")\n",
    "    inp = pieces[0] + \"-\" + pieces[1] + \"-\" + pieces[2]\n",
    "    newmut = (mutextall[x][0] +\"_\"+ mutextall[x][3] + \"_\" +mutextall[x][4] + \":\"+ mutextall[x][5] + \"-\" + mutextall[x][6] +\"_\"+ mutextall[x][8] + \"_\" + mutextall[x][9] + \"_\" + mutextall[x][10] + \"_\" + mutextall[x][11] + \"_\" + mutextall[x][12])\n",
    "    if newmut not in firstrow:\n",
    "        firstrow.append(newmut)\n",
    "    if inp in presents:\n",
    "        presents[inp].append(newmut)\n",
    "    else:\n",
    "        presents[inp] = [newmut]\n",
    "\n",
    "firstrow.append(\"class\")\n",
    "firstrow"
   ]
  },
  {
   "cell_type": "code",
   "execution_count": 2,
   "metadata": {},
   "outputs": [
    {
     "name": "stdout",
     "output_type": "stream",
     "text": [
      "num features 88775\n"
     ]
    },
    {
     "data": {
      "text/plain": [
       "'\\nwith open(\"nonsomaticDISCARD.csv\",\"w\") as fun:\\n    writer = csv.writer(fun)\\n    writer.writerows(newset)\\n'"
      ]
     },
     "execution_count": 2,
     "metadata": {},
     "output_type": "execute_result"
    }
   ],
   "source": [
    "numfeats = len(firstrow) - 2\n",
    "print(\"num features\",str(numfeats))\n",
    "#find foreground vs. background\n",
    "\n",
    "newset = [firstrow]\n",
    "foreback = {}\n",
    "\n",
    "for x in range(6,len(datclinall)-1):\n",
    "    if datclinall[x][0] in foreback:\n",
    "        print(\"ERROR.\")\n",
    "    else:\n",
    "        if(datclinall[x][7] == \"CIMP.H\"):\n",
    "            foreback[datclinall[x][0]] = \"1.0\"\n",
    "        else:\n",
    "            foreback[datclinall[x][0]] = \"-1.0\"\n",
    "\n",
    "#attach to new matrix\n",
    "for key,muts in presents.items():\n",
    "    nextrow = [key]\n",
    "    for item in firstrow:\n",
    "        if(item != \"\" and item != \"class\"):\n",
    "            if item in muts:\n",
    "                nextrow.append(\"1.0\")\n",
    "            else:\n",
    "                nextrow.append(\"0.0\")\n",
    "    nextrow.append(foreback[key])\n",
    "    newset.append(nextrow)\n",
    "'''\n",
    "with open(\"nonsomaticDISCARD.csv\",\"w\") as fun:\n",
    "    writer = csv.writer(fun)\n",
    "    writer.writerows(newset)\n",
    "'''"
   ]
  },
  {
   "cell_type": "code",
   "execution_count": null,
   "metadata": {},
   "outputs": [],
   "source": []
  }
 ],
 "metadata": {
  "kernelspec": {
   "display_name": "Python 3",
   "language": "python",
   "name": "python3"
  },
  "language_info": {
   "codemirror_mode": {
    "name": "ipython",
    "version": 3
   },
   "file_extension": ".py",
   "mimetype": "text/x-python",
   "name": "python",
   "nbconvert_exporter": "python",
   "pygments_lexer": "ipython3",
   "version": "3.6.3"
  }
 },
 "nbformat": 4,
 "nbformat_minor": 2
}
