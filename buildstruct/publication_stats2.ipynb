{
 "cells": [
  {
   "cell_type": "code",
   "execution_count": 1,
   "metadata": {},
   "outputs": [
    {
     "data": {
      "text/plain": [
       "224"
      ]
     },
     "execution_count": 1,
     "metadata": {},
     "output_type": "execute_result"
    }
   ],
   "source": [
    "import os\n",
    "import csv\n",
    "import pprint\n",
    "\n",
    "datclinfile = \"../../data_clinical.csv\"\n",
    "mutextfile = \"../../data_mutations_extended.csv\"\n",
    "with open(datclinfile,'r') as f:\n",
    "        it = csv.reader(f)\n",
    "        datclinall = list(it)\n",
    "with open(mutextfile,'r') as f:\n",
    "        it = csv.reader(f)\n",
    "        mutextall = list(it)\n",
    "\n",
    "#number of samples in mutations file\n",
    "samps = []\n",
    "for x in range(1,len(mutextall)):\n",
    "    pieces = mutextall[x][15].split(\"-\")\n",
    "    inp = pieces[0] + \"-\" + pieces[1] + \"-\" + pieces[2]\n",
    "    if(inp not in samps):\n",
    "        samps.append(inp)\n",
    "len(samps)"
   ]
  },
  {
   "cell_type": "code",
   "execution_count": 10,
   "metadata": {},
   "outputs": [
    {
     "data": {
      "text/plain": [
       "276"
      ]
     },
     "execution_count": 10,
     "metadata": {},
     "output_type": "execute_result"
    }
   ],
   "source": [
    "#number of samples in clinical file\n",
    "clinsamps = []\n",
    "foreback = {}\n",
    "for x in range(6,len(datclinall)-1):\n",
    "    if datclinall[x][0] in foreback:\n",
    "        print(\"ERROR.\")\n",
    "    else:\n",
    "        if datclinall[x][0] not in clinsamps:\n",
    "            clinsamps.append(datclinall[x][0])\n",
    "        if(datclinall[x][7] == \"CIMP.H\"):\n",
    "            foreback[datclinall[x][0]] = \"1.0\"\n",
    "        elif(datclinall[x][7] == \"CIMP.L\"):\n",
    "            foreback[datclinall[x][0]] = \"2.0\"\n",
    "        elif(datclinall[x][7] == \"Clust.3\"):\n",
    "            print(\"HI\")\n",
    "            foreback[datclinall[x][0]] = \"2.0\"\n",
    "len(clinsamps)"
   ]
  },
  {
   "cell_type": "code",
   "execution_count": 11,
   "metadata": {},
   "outputs": [
    {
     "data": {
      "text/plain": [
       "89"
      ]
     },
     "execution_count": 11,
     "metadata": {},
     "output_type": "execute_result"
    }
   ],
   "source": [
    "len(foreback)"
   ]
  },
  {
   "cell_type": "code",
   "execution_count": null,
   "metadata": {},
   "outputs": [],
   "source": []
  }
 ],
 "metadata": {
  "kernelspec": {
   "display_name": "Python 3",
   "language": "python",
   "name": "python3"
  },
  "language_info": {
   "codemirror_mode": {
    "name": "ipython",
    "version": 3
   },
   "file_extension": ".py",
   "mimetype": "text/x-python",
   "name": "python",
   "nbconvert_exporter": "python",
   "pygments_lexer": "ipython3",
   "version": "3.6.3"
  }
 },
 "nbformat": 4,
 "nbformat_minor": 2
}
