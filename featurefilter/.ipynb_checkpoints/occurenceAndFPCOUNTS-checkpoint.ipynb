{
 "cells": [
  {
   "cell_type": "code",
   "execution_count": 1,
   "metadata": {},
   "outputs": [
    {
     "name": "stdout",
     "output_type": "stream",
     "text": [
      "col # of old: 88777\n"
     ]
    }
   ],
   "source": [
    "#Feature selection for implementing Dr. Elnitski's algorithm\n",
    "import os\n",
    "import csv\n",
    "import statistics\n",
    "\n",
    "inpdat = \"../../coadreadDAT.csv\"\n",
    "\n",
    "with open(inpdat,'r') as f:\n",
    "    it = csv.reader(f)\n",
    "    listit = list(it)\n",
    "    \n",
    "print(\"col # of old:\",len(listit[0]))"
   ]
  },
  {
   "cell_type": "code",
   "execution_count": 1,
   "metadata": {},
   "outputs": [
    {
     "ename": "NameError",
     "evalue": "name 'listit' is not defined",
     "output_type": "error",
     "traceback": [
      "\u001b[0;31m---------------------------------------------------------------------------\u001b[0m",
      "\u001b[0;31mNameError\u001b[0m                                 Traceback (most recent call last)",
      "\u001b[0;32m<ipython-input-1-d83d2bcb1c18>\u001b[0m in \u001b[0;36m<module>\u001b[0;34m()\u001b[0m\n\u001b[0;32m----> 1\u001b[0;31m \u001b[0mendcol\u001b[0m \u001b[0;34m=\u001b[0m \u001b[0mlen\u001b[0m\u001b[0;34m(\u001b[0m\u001b[0mlistit\u001b[0m\u001b[0;34m[\u001b[0m\u001b[0;36m0\u001b[0m\u001b[0;34m]\u001b[0m\u001b[0;34m)\u001b[0m\u001b[0;34m-\u001b[0m\u001b[0;36m1\u001b[0m\u001b[0;34m\u001b[0m\u001b[0m\n\u001b[0m\u001b[1;32m      2\u001b[0m \u001b[0mendrow\u001b[0m \u001b[0;34m=\u001b[0m \u001b[0mlen\u001b[0m\u001b[0;34m(\u001b[0m\u001b[0mlistit\u001b[0m\u001b[0;34m)\u001b[0m\u001b[0;34m\u001b[0m\u001b[0m\n\u001b[1;32m      3\u001b[0m \u001b[0;34m\u001b[0m\u001b[0m\n\u001b[1;32m      4\u001b[0m \u001b[0;31m#count feats with 0 cimp-\u001b[0m\u001b[0;34m\u001b[0m\u001b[0;34m\u001b[0m\u001b[0m\n\u001b[1;32m      5\u001b[0m \u001b[0mposscols\u001b[0m \u001b[0;34m=\u001b[0m \u001b[0;34m[\u001b[0m\u001b[0;34m]\u001b[0m \u001b[0;31m#only get columns w at least 2 CIMP+ coverage\u001b[0m\u001b[0;34m\u001b[0m\u001b[0m\n",
      "\u001b[0;31mNameError\u001b[0m: name 'listit' is not defined"
     ]
    }
   ],
   "source": [
    "endcol = len(listit[0])-1\n",
    "endrow = len(listit)\n",
    "\n",
    "#count feats with 0 cimp-\n",
    "posscols = [] #only get columns w at least 2 CIMP+ coverage\n",
    "count = 0\n",
    "for y in range(1,endcol):\n",
    "    FPcount = 0\n",
    "    for x in range(1,endrow):\n",
    "        if(float(listit[x][y]) == 1.0):\n",
    "            if(float(listit[x][endcol]) == -1.0):\n",
    "                FPcount += 1\n",
    "    if(FPcount == 0):\n",
    "        count += 1\n",
    "        \n",
    "print(\"num feats with 0 CIMP-: \" + str(count))\n",
    "\n",
    "posscols = [0] #only get columns w at least 2 CIMP+ coverage\n",
    "posscols2 = []\n",
    "posscols3 = []\n",
    "posscols4 = []\n",
    "posscols5 = []\n",
    "for y in range(1,endcol):\n",
    "    TPcount = 0\n",
    "    FPcount = 0\n",
    "    for x in range(1,endrow):\n",
    "        if(float(listit[x][y]) == 1.0):\n",
    "            if(float(listit[x][endcol]) == 1.0):\n",
    "                TPcount += 1\n",
    "            else:\n",
    "                FPcount += 1\n",
    "                \n",
    "    if(TPcount >= 2 and FPcount == 0):\n",
    "        posscols.append(y)\n",
    "        posscols2.append(y)\n",
    "    if(TPcount >= 3 and FPcount == 0):\n",
    "        posscols3.append(y)\n",
    "    if(TPcount >= 4 and FPcount == 0):\n",
    "        posscols4.append(y)\n",
    "    if(TPcount >= 5 and FPcount == 0):\n",
    "        posscols5.append(y)\n",
    "\n",
    "print(\"inter 2: \" + str(len(posscols2)) +  \"inter 3: \" + str(len(posscols3)) + \"inter 4: \" + str(len(posscols4)) + \"inter 5: \" + str(len(posscols5)))\n",
    "posscols.append(len(listit[0])-1)\n",
    "posscols"
   ]
  },
  {
   "cell_type": "code",
   "execution_count": 3,
   "metadata": {},
   "outputs": [],
   "source": [
    "newdatset = [[row[c] for c in posscols] for row in listit]\n",
    "with open(\"filtered_occurrenceandfpCOUNTS.csv\",\"w\") as fun:\n",
    "    writer = csv.writer(fun)\n",
    "    writer.writerows(newdatset)"
   ]
  }
 ],
 "metadata": {
  "kernelspec": {
   "display_name": "Python 3",
   "language": "python",
   "name": "python3"
  },
  "language_info": {
   "codemirror_mode": {
    "name": "ipython",
    "version": 3
   },
   "file_extension": ".py",
   "mimetype": "text/x-python",
   "name": "python",
   "nbconvert_exporter": "python",
   "pygments_lexer": "ipython3",
   "version": "3.6.3"
  }
 },
 "nbformat": 4,
 "nbformat_minor": 2
}
