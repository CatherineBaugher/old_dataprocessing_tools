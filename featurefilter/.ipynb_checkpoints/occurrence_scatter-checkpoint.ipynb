{
 "cells": [
  {
   "cell_type": "markdown",
   "metadata": {},
   "source": [
    "# Feature selection\n",
    "#### importing libraries and reading in data"
   ]
  },
  {
   "cell_type": "code",
   "execution_count": 1,
   "metadata": {},
   "outputs": [
    {
     "ename": "ModuleNotFoundError",
     "evalue": "No module named 'graphviz'",
     "output_type": "error",
     "traceback": [
      "\u001b[0;31m---------------------------------------------------------------------------\u001b[0m",
      "\u001b[0;31mModuleNotFoundError\u001b[0m                       Traceback (most recent call last)",
      "\u001b[0;32m<ipython-input-1-ab15e48f048b>\u001b[0m in \u001b[0;36m<module>\u001b[0;34m()\u001b[0m\n\u001b[1;32m      3\u001b[0m \u001b[0;32mfrom\u001b[0m \u001b[0msklearn\u001b[0m \u001b[0;32mimport\u001b[0m \u001b[0mtree\u001b[0m\u001b[0;34m\u001b[0m\u001b[0m\n\u001b[1;32m      4\u001b[0m \u001b[0;32mfrom\u001b[0m \u001b[0msklearn\u001b[0m\u001b[0;34m.\u001b[0m\u001b[0mmodel_selection\u001b[0m \u001b[0;32mimport\u001b[0m \u001b[0mtrain_test_split\u001b[0m\u001b[0;34m\u001b[0m\u001b[0m\n\u001b[0;32m----> 5\u001b[0;31m \u001b[0;32mfrom\u001b[0m \u001b[0mgraphviz\u001b[0m \u001b[0;32mimport\u001b[0m \u001b[0mSource\u001b[0m \u001b[0;31m# for drawing decision tree\u001b[0m\u001b[0;34m\u001b[0m\u001b[0m\n\u001b[0m\u001b[1;32m      6\u001b[0m \u001b[0;32mfrom\u001b[0m \u001b[0mIPython\u001b[0m\u001b[0;34m.\u001b[0m\u001b[0mdisplay\u001b[0m \u001b[0;32mimport\u001b[0m \u001b[0mSVG\u001b[0m \u001b[0;31m# for drawing decision tree\u001b[0m\u001b[0;34m\u001b[0m\u001b[0m\n\u001b[1;32m      7\u001b[0m \u001b[0;34m\u001b[0m\u001b[0m\n",
      "\u001b[0;31mModuleNotFoundError\u001b[0m: No module named 'graphviz'"
     ]
    }
   ],
   "source": [
    "import csv\n",
    "import matplotlib.pyplot as plt\n",
    "from sklearn import tree\n",
    "from sklearn.model_selection import train_test_split\n",
    "from graphviz import Source # for drawing decision tree\n",
    "from IPython.display import SVG # for drawing decision tree\n",
    "\n",
    "motifNames = []\n",
    "classes = []\n",
    "rawData = []\n",
    "with open('./91feats.csv') as csvfile: \n",
    "    readCSV = csv.reader(csvfile, delimiter=',')\n",
    "    motifNames = next(readCSV)[1:-1] #remove left most column and 'class'\n",
    "    for row in readCSV:\n",
    "        rawData.append(row[1:-1])\n",
    "        classes.append(row[-1])\n",
    "print (\"number of motif names:\", len(motifNames)) \n",
    "print (\"number of recorded classes:\", len(classes))  \n",
    "print (\"Data Dimentions:\", len(rawData),\"rows,\", len(rawData[0]), \"cols\")\n"
   ]
  },
  {
   "cell_type": "markdown",
   "metadata": {},
   "source": [
    "#### Transpose data and convert to true / false for simpler code"
   ]
  },
  {
   "cell_type": "code",
   "execution_count": null,
   "metadata": {},
   "outputs": [],
   "source": [
    "# convert data to T/F\n",
    "for row in range(len(rawData)):\n",
    "        for cell in range(len(rawData[row])):\n",
    "            if(rawData[row][cell] == '0.0'):\n",
    "                rawData[row][cell] = False\n",
    "            elif(rawData[row][cell] == '1.0'):\n",
    "                rawData[row][cell] = True\n",
    "                \n",
    "# convert data to T/F\n",
    "for cell in range(len(classes)):\n",
    "    if(classes[cell] == '0.0'):\n",
    "        classes[cell] = False\n",
    "    elif(classes[cell] == '1.0'):\n",
    "        classes[cell] = True\n",
    "\n",
    "    \n",
    "# transpose data\n",
    "tData = [list(i) for i in zip(*rawData)]\n",
    "print (\"Transposed Dimentions:\", len(tData),\"rows,\", len(tData[0]), \"cols\")  "
   ]
  },
  {
   "cell_type": "markdown",
   "metadata": {},
   "source": [
    "#### Count how many times each motif occurs in the positive and negative classes"
   ]
  },
  {
   "cell_type": "code",
   "execution_count": null,
   "metadata": {},
   "outputs": [],
   "source": [
    "posCounts = []\n",
    "negCounts = []\n",
    "\n",
    "for row in range(len(tData)):\n",
    "    posCount = 0\n",
    "    negCount = 0\n",
    "    for col in range(len(tData[row])):\n",
    "        if(tData[row][col] == True):\n",
    "            if(classes[col] == True):\n",
    "                posCount += 1 \n",
    "            elif(classes[col] == False):\n",
    "                negCount += 1\n",
    "    posCounts.append(posCount)\n",
    "    negCounts.append(negCount)\n",
    "    \n",
    "print(\"first:\", posCounts[0], \"pos,\", negCounts[0], \"neg\")\n",
    "print(\"last:\", posCounts[-1], \"pos,\", negCounts[-1], \"neg\")\n",
    "print(\"max pos: \", max(posCounts))\n",
    "print(\"max neg: \", max(negCounts))"
   ]
  },
  {
   "cell_type": "markdown",
   "metadata": {},
   "source": [
    "#### create plots based on counts"
   ]
  },
  {
   "cell_type": "code",
   "execution_count": null,
   "metadata": {
    "scrolled": true
   },
   "outputs": [],
   "source": [
    "plt.scatter(posCounts, negCounts)\n",
    "plt.xlabel(\"Number of positive occurrences\")\n",
    "plt.ylabel(\"Number of negative occurrences\")\n",
    "plt.show()\n"
   ]
  },
  {
   "cell_type": "markdown",
   "metadata": {},
   "source": [
    "#### create lasso scores"
   ]
  },
  {
   "cell_type": "code",
   "execution_count": null,
   "metadata": {},
   "outputs": [],
   "source": [
    "from sklearn import linear_model\n",
    "clf = linear_model.Lasso(alpha=.001)\n",
    "clf.fit(rawData, classes)\n",
    "lassoScores = clf.coef_\n",
    "print(len(lassoScores))"
   ]
  },
  {
   "cell_type": "markdown",
   "metadata": {},
   "source": [
    "#### split data by if it has a positive and if it has a negative occurance"
   ]
  },
  {
   "cell_type": "code",
   "execution_count": null,
   "metadata": {},
   "outputs": [],
   "source": [
    "never = []\n",
    "neverMotifNames = []\n",
    "mixed = []\n",
    "mixedMotifNames = []\n",
    "right = []\n",
    "rightMotifNames = []\n",
    "bottom = []\n",
    "bottomMotifNames = []\n",
    "ratio = []\n",
    "ratioMotifNames = []\n",
    "lasso = []\n",
    "lassoMotifNames = []\n",
    "for row in range(len(posCounts)):\n",
    "    if negCounts[row] == 0 and posCounts[row] == 0:\n",
    "        never.append(tData[row])\n",
    "        neverMotifNames.append(motifNames[row])\n",
    "    else:\n",
    "        if posCounts[row] >= max(posCounts) - 1:\n",
    "            right.append(tData[row])\n",
    "            rightMotifNames.append(motifNames[row])\n",
    "        if negCounts[row] < 3:\n",
    "            bottom.append(tData[row])\n",
    "            bottomMotifNames.append(motifNames[row])\n",
    "        if posCounts[row] > 0 and negCounts[row] > 0:\n",
    "            mixed.append(tData[row])\n",
    "            mixedMotifNames.append(motifNames[row])\n",
    "        if (posCounts[row] / max(posCounts)) / (1+negCounts[row]/max(negCounts)) > .5:\n",
    "            ratio.append(tData[row])\n",
    "            ratioMotifNames.append(motifNames[row])\n",
    "        if lassoScores[row] > 0:\n",
    "            lasso.append(tData[row])\n",
    "            lassoMotifNames.append(motifNames[row])            \n",
    "            \n",
    "print(len(lasso))"
   ]
  },
  {
   "cell_type": "markdown",
   "metadata": {},
   "source": [
    "#### create a decision tree and train it on mixedData"
   ]
  },
  {
   "cell_type": "code",
   "execution_count": null,
   "metadata": {},
   "outputs": [],
   "source": [
    "selected = lasso\n",
    "selectedNames = lassoMotifNames\n",
    "\n",
    "selectedTree = tree.DecisionTreeClassifier()\n",
    "selectedData = [list(i) for i in zip(*selected)]\n",
    "x_train, x_test, y_train, y_test = train_test_split(selectedData, classes, test_size=0.33)\n",
    "selectedTree = selectedTree.fit(x_train, y_train)"
   ]
  },
  {
   "cell_type": "markdown",
   "metadata": {},
   "source": [
    "#### display the tree we've genorated"
   ]
  },
  {
   "cell_type": "code",
   "execution_count": null,
   "metadata": {},
   "outputs": [],
   "source": [
    "selectedPredictions = selectedTree.predict(x_test)\n",
    "graph = Source( tree.export_graphviz(selectedTree, out_file=None, feature_names=selectedNames))\n",
    "SVG(graph.pipe(format='svg'))"
   ]
  },
  {
   "cell_type": "markdown",
   "metadata": {},
   "source": [
    "#### count true positves, flase negatives etc. and calculate metrics"
   ]
  },
  {
   "cell_type": "code",
   "execution_count": null,
   "metadata": {},
   "outputs": [],
   "source": [
    "tp = 0\n",
    "fp = 0\n",
    "tn = 0\n",
    "fn = 0\n",
    "for i in range(len(selectedPredictions)):\n",
    "    if(selectedPredictions[i]):\n",
    "        if(y_test[i]):\n",
    "            tp += 1\n",
    "        else:\n",
    "            fp += 1\n",
    "    else:\n",
    "        if(y_test[i]):\n",
    "            fn += 1\n",
    "        else:\n",
    "            tn += 1\n",
    "print(\"true positives:\", tp)\n",
    "print(\"false positives:\", fp)\n",
    "print(\"true negatives:\", tn)\n",
    "print(\"false negatives:\", fn)\n",
    "if fp > 0:\n",
    "    print(\"true positive to false positive ratio:\",tp/fp)\n",
    "if fn > 0:\n",
    "    print(\"true negative to false negative ratio:\",tn/fn)\n",
    "print(\"Sensitivity:\",tp/(tp+fn))\n",
    "print(\"Specificity:\",tn/(tn+fp))\n",
    "print(\"Accuracy:\",(tp+tn)/(tp+tn+fp+fn))"
   ]
  },
  {
   "cell_type": "code",
   "execution_count": null,
   "metadata": {},
   "outputs": [],
   "source": []
  },
  {
   "cell_type": "code",
   "execution_count": null,
   "metadata": {},
   "outputs": [],
   "source": [
    "from sklearn import linear_model\n",
    "clf = linear_model.Lasso(alpha=.001)\n",
    "clf.fit(rawData, classes)\n",
    "print(clf.coef_)"
   ]
  },
  {
   "cell_type": "code",
   "execution_count": null,
   "metadata": {},
   "outputs": [],
   "source": []
  },
  {
   "cell_type": "code",
   "execution_count": null,
   "metadata": {},
   "outputs": [],
   "source": []
  }
 ],
 "metadata": {
  "anaconda-cloud": {},
  "kernelspec": {
   "display_name": "Python 3",
   "language": "python",
   "name": "python3"
  },
  "language_info": {
   "codemirror_mode": {
    "name": "ipython",
    "version": 3
   },
   "file_extension": ".py",
   "mimetype": "text/x-python",
   "name": "python",
   "nbconvert_exporter": "python",
   "pygments_lexer": "ipython3",
   "version": "3.6.3"
  }
 },
 "nbformat": 4,
 "nbformat_minor": 2
}
