{
 "cells": [
  {
   "cell_type": "code",
   "execution_count": 1,
   "metadata": {},
   "outputs": [
    {
     "data": {
      "text/plain": [
       "['BRAF',\n",
       " 'GRB14',\n",
       " 'MBD4',\n",
       " 'MSH6',\n",
       " 'PRDM2',\n",
       " 'HMMR',\n",
       " 'SEC63',\n",
       " 'KRAS',\n",
       " 'PIK3CA',\n",
       " 'RAD50',\n",
       " 'ACVR2A',\n",
       " 'CASP5',\n",
       " 'MSH3',\n",
       " 'ATR',\n",
       " 'TGFBR2',\n",
       " 'AIM2',\n",
       " 'TCF7L2']"
      ]
     },
     "execution_count": 1,
     "metadata": {},
     "output_type": "execute_result"
    }
   ],
   "source": [
    "import csv\n",
    "import pandas as pd\n",
    "import gseapy as gp\n",
    "import matplotlib.pyplot as plt\n",
    "\n",
    "#import 17 features\n",
    "inpdat = \"../../3ormoreDATLOW.csv\"\n",
    "with open(inpdat,'r') as f:\n",
    "    it = csv.reader(f)\n",
    "    listit = list(it)\n",
    "\n",
    "genelist = []\n",
    "for y in range(1,len(listit[0])-1):\n",
    "    short = listit[0][y].split(\"_\")[0]\n",
    "    if(short not in genelist):\n",
    "        genelist.append(short)\n",
    "genelist"
   ]
  },
  {
   "cell_type": "code",
   "execution_count": 5,
   "metadata": {},
   "outputs": [
    {
     "data": {
      "text/html": [
       "<div>\n",
       "<style scoped>\n",
       "    .dataframe tbody tr th:only-of-type {\n",
       "        vertical-align: middle;\n",
       "    }\n",
       "\n",
       "    .dataframe tbody tr th {\n",
       "        vertical-align: top;\n",
       "    }\n",
       "\n",
       "    .dataframe thead th {\n",
       "        text-align: right;\n",
       "    }\n",
       "</style>\n",
       "<table border=\"1\" class=\"dataframe\">\n",
       "  <thead>\n",
       "    <tr style=\"text-align: right;\">\n",
       "      <th></th>\n",
       "      <th>Term</th>\n",
       "      <th>Overlap</th>\n",
       "      <th>P-value</th>\n",
       "      <th>Adjusted P-value</th>\n",
       "      <th>Old P-value</th>\n",
       "      <th>Old Adjusted P-value</th>\n",
       "      <th>Z-score</th>\n",
       "      <th>Combined Score</th>\n",
       "      <th>Genes</th>\n",
       "    </tr>\n",
       "  </thead>\n",
       "  <tbody>\n",
       "    <tr>\n",
       "      <th>0</th>\n",
       "      <td>Colorectal cancer_Homo sapiens_hsa05210</td>\n",
       "      <td>7/62</td>\n",
       "      <td>3.680187e-14</td>\n",
       "      <td>4.121810e-12</td>\n",
       "      <td>3.906355e-11</td>\n",
       "      <td>4.375118e-09</td>\n",
       "      <td>-2.005101</td>\n",
       "      <td>62.024244</td>\n",
       "      <td>MSH6;TCF7L2;PIK3CA;MSH3;BRAF;KRAS;TGFBR2</td>\n",
       "    </tr>\n",
       "    <tr>\n",
       "      <th>1</th>\n",
       "      <td>Pathways in cancer_Homo sapiens_hsa05200</td>\n",
       "      <td>7/397</td>\n",
       "      <td>1.887415e-08</td>\n",
       "      <td>1.056952e-06</td>\n",
       "      <td>8.499137e-06</td>\n",
       "      <td>2.379758e-04</td>\n",
       "      <td>-2.083086</td>\n",
       "      <td>37.048665</td>\n",
       "      <td>MSH6;TCF7L2;PIK3CA;MSH3;BRAF;KRAS;TGFBR2</td>\n",
       "    </tr>\n",
       "    <tr>\n",
       "      <th>2</th>\n",
       "      <td>Endometrial cancer_Homo sapiens_hsa05213</td>\n",
       "      <td>4/52</td>\n",
       "      <td>9.429243e-08</td>\n",
       "      <td>3.520251e-06</td>\n",
       "      <td>4.631990e-06</td>\n",
       "      <td>2.379758e-04</td>\n",
       "      <td>-1.919512</td>\n",
       "      <td>31.051680</td>\n",
       "      <td>TCF7L2;PIK3CA;BRAF;KRAS</td>\n",
       "    </tr>\n",
       "    <tr>\n",
       "      <th>3</th>\n",
       "      <td>Acute myeloid leukemia_Homo sapiens_hsa05221</td>\n",
       "      <td>4/57</td>\n",
       "      <td>1.372226e-07</td>\n",
       "      <td>3.842234e-06</td>\n",
       "      <td>6.539963e-06</td>\n",
       "      <td>2.379758e-04</td>\n",
       "      <td>-1.917971</td>\n",
       "      <td>30.307134</td>\n",
       "      <td>TCF7L2;PIK3CA;BRAF;KRAS</td>\n",
       "    </tr>\n",
       "    <tr>\n",
       "      <th>4</th>\n",
       "      <td>Pancreatic cancer_Homo sapiens_hsa05212</td>\n",
       "      <td>4/66</td>\n",
       "      <td>2.492003e-07</td>\n",
       "      <td>5.582086e-06</td>\n",
       "      <td>1.136117e-05</td>\n",
       "      <td>2.544903e-04</td>\n",
       "      <td>-1.863021</td>\n",
       "      <td>28.327244</td>\n",
       "      <td>PIK3CA;BRAF;KRAS;TGFBR2</td>\n",
       "    </tr>\n",
       "  </tbody>\n",
       "</table>\n",
       "</div>"
      ],
      "text/plain": [
       "                                           Term Overlap       P-value  \\\n",
       "0       Colorectal cancer_Homo sapiens_hsa05210    7/62  3.680187e-14   \n",
       "1      Pathways in cancer_Homo sapiens_hsa05200   7/397  1.887415e-08   \n",
       "2      Endometrial cancer_Homo sapiens_hsa05213    4/52  9.429243e-08   \n",
       "3  Acute myeloid leukemia_Homo sapiens_hsa05221    4/57  1.372226e-07   \n",
       "4       Pancreatic cancer_Homo sapiens_hsa05212    4/66  2.492003e-07   \n",
       "\n",
       "   Adjusted P-value   Old P-value  Old Adjusted P-value   Z-score  \\\n",
       "0      4.121810e-12  3.906355e-11          4.375118e-09 -2.005101   \n",
       "1      1.056952e-06  8.499137e-06          2.379758e-04 -2.083086   \n",
       "2      3.520251e-06  4.631990e-06          2.379758e-04 -1.919512   \n",
       "3      3.842234e-06  6.539963e-06          2.379758e-04 -1.917971   \n",
       "4      5.582086e-06  1.136117e-05          2.544903e-04 -1.863021   \n",
       "\n",
       "   Combined Score                                     Genes  \n",
       "0       62.024244  MSH6;TCF7L2;PIK3CA;MSH3;BRAF;KRAS;TGFBR2  \n",
       "1       37.048665  MSH6;TCF7L2;PIK3CA;MSH3;BRAF;KRAS;TGFBR2  \n",
       "2       31.051680                   TCF7L2;PIK3CA;BRAF;KRAS  \n",
       "3       30.307134                   TCF7L2;PIK3CA;BRAF;KRAS  \n",
       "4       28.327244                   PIK3CA;BRAF;KRAS;TGFBR2  "
      ]
     },
     "execution_count": 5,
     "metadata": {},
     "output_type": "execute_result"
    }
   ],
   "source": [
    "# run enrichr\n",
    "# if you are only intrested in dataframe that enrichr returned, please set no_plot=True\n",
    "\n",
    "# list, dataframe, series inputs are supported\n",
    "enr = gp.enrichr(gene_list=genelist,\n",
    "                 # or gene_list='./gene_list.txt', or gene_list=glist\n",
    "                 description='enrichr',\n",
    "                 gene_sets='KEGG_2016',\n",
    "                 outdir='./results',\n",
    "                 cutoff=0.5 # test dataset, use lower value of range(0,1)\n",
    "                )\n",
    "\n",
    "# access results throught res2d attr\n",
    "enr.res2d.head()"
   ]
  },
  {
   "cell_type": "code",
   "execution_count": 3,
   "metadata": {},
   "outputs": [
    {
     "data": {
      "text/plain": [
       "\"# run gsea\\n# enrichr libraries are supported by gsea module. Just provide the name\\n\\ngs_res = gp.gsea(data=genelist, # or data='./P53_resampling_data.txt'\\n                 gene_sets='KEGG_2016', # enrichr library names\\n                 cls='/P53.cls', # or cls= './P53.cls'\\n                 #set permutation_type to phenotype if samples >=15\\n                 permutation_type='phenotype',\\n                 permutation_num=100, # reduce number to speed up test\\n                 outdir='test/gsea_report',\\n                 method='signal_to_noise',\\n                 processes=4,\\n                 format='png')\\n\\n\\n#access the dataframe results throught res2d attribute\\ngs_res.res2d.head()\""
      ]
     },
     "execution_count": 3,
     "metadata": {},
     "output_type": "execute_result"
    }
   ],
   "source": [
    "'''# run gsea\n",
    "# enrichr libraries are supported by gsea module. Just provide the name\n",
    "\n",
    "gs_res = gp.gsea(data=genelist, # or data='./P53_resampling_data.txt'\n",
    "                 gene_sets='KEGG_2016', # enrichr library names\n",
    "                 cls='/P53.cls', # or cls= './P53.cls'\n",
    "                 #set permutation_type to phenotype if samples >=15\n",
    "                 permutation_type='phenotype',\n",
    "                 permutation_num=100, # reduce number to speed up test\n",
    "                 outdir='test/gsea_report',\n",
    "                 method='signal_to_noise',\n",
    "                 processes=4,\n",
    "                 format='png')\n",
    "\n",
    "\n",
    "#access the dataframe results throught res2d attribute\n",
    "gs_res.res2d.head()'''"
   ]
  },
  {
   "cell_type": "code",
   "execution_count": null,
   "metadata": {},
   "outputs": [],
   "source": []
  }
 ],
 "metadata": {
  "kernelspec": {
   "display_name": "Python 3",
   "language": "python",
   "name": "python3"
  },
  "language_info": {
   "codemirror_mode": {
    "name": "ipython",
    "version": 3
   },
   "file_extension": ".py",
   "mimetype": "text/x-python",
   "name": "python",
   "nbconvert_exporter": "python",
   "pygments_lexer": "ipython3",
   "version": "3.6.3"
  }
 },
 "nbformat": 4,
 "nbformat_minor": 2
}
