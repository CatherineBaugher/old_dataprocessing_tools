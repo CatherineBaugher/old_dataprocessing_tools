{
 "cells": [
  {
   "cell_type": "code",
   "execution_count": 1,
   "metadata": {},
   "outputs": [
    {
     "data": {
      "text/plain": [
       "18"
      ]
     },
     "execution_count": 1,
     "metadata": {},
     "output_type": "execute_result"
    }
   ],
   "source": [
    "import matplotlib.pyplot as plt\n",
    "import numpy as np\n",
    "import pandas as pd\n",
    "from sklearn.tree import DecisionTreeClassifier\n",
    "\n",
    "#load up CSV into dataframe\n",
    "dataMatrix = pd.read_csv('../../3ormoreDATLOW.csv', index_col=0)\n",
    "dataMatrix.loc[dataMatrix['class'] == 2.0, 'class'] = -1.0\n",
    "\n",
    "len(dataMatrix.index)\n",
    "dataMatrix.shape[1]"
   ]
  },
  {
   "cell_type": "code",
   "execution_count": 2,
   "metadata": {},
   "outputs": [
    {
     "data": {
      "text/plain": [
       "array([[ 0.,  0.,  0., ...,  0.,  0.,  0.],\n",
       "       [ 1.,  0.,  0., ...,  0.,  0.,  0.],\n",
       "       [ 0.,  0.,  0., ...,  0.,  0.,  0.],\n",
       "       ..., \n",
       "       [ 0.,  0.,  0., ...,  0.,  0.,  0.],\n",
       "       [ 0.,  0.,  0., ...,  0.,  0.,  0.],\n",
       "       [ 0.,  0.,  0., ...,  0.,  0.,  0.]])"
      ]
     },
     "execution_count": 2,
     "metadata": {},
     "output_type": "execute_result"
    }
   ],
   "source": [
    "array = dataMatrix.values\n",
    "\n",
    "numcols = len(array[0]) - 1\n",
    "\n",
    "x = array[:,0:numcols]\n",
    "y = array[:,numcols]\n",
    "\n",
    "x"
   ]
  },
  {
   "cell_type": "code",
   "execution_count": 3,
   "metadata": {},
   "outputs": [
    {
     "data": {
      "text/plain": [
       "DecisionTreeClassifier(class_weight=None, criterion='gini', max_depth=None,\n",
       "            max_features=None, max_leaf_nodes=None,\n",
       "            min_impurity_decrease=0.0, min_impurity_split=None,\n",
       "            min_samples_leaf=1, min_samples_split=2,\n",
       "            min_weight_fraction_leaf=0.0, presort=False, random_state=None,\n",
       "            splitter='best')"
      ]
     },
     "execution_count": 3,
     "metadata": {},
     "output_type": "execute_result"
    }
   ],
   "source": [
    "clf = DecisionTreeClassifier()\n",
    "\n",
    "clf.fit(x,y)\n",
    "'''my_list = clf.feature_importances_\n",
    "\n",
    "indices = np.argsort(my_list)[::-1]\n",
    "\n",
    "for f in range(x.shape[1]):\n",
    "    print(\"%d. feature %s (%f)\" % (f + 1, dataMatrix.columns[indices[f]], my_list[indices[f]]))'''\n",
    "clf"
   ]
  },
  {
   "cell_type": "code",
   "execution_count": 4,
   "metadata": {},
   "outputs": [
    {
     "name": "stdout",
     "output_type": "stream",
     "text": [
      "Accuracy of fold 1: 0.891304347826\n",
      "Accuracy of fold 2: 0.717391304348\n",
      "Accuracy of fold 3: 0.840909090909\n",
      "Accuracy of fold 4: 0.931818181818\n",
      "Accuracy of fold 5: 0.840909090909\n",
      "\n",
      "\n",
      "Avg accuracy across folds: 0.844466403162\n"
     ]
    }
   ],
   "source": [
    "from sklearn.model_selection import cross_val_score\n",
    "\n",
    "results = cross_val_score(clf, x, y, cv=5)\n",
    "\n",
    "for z in range (1, len(results)+1):\n",
    "    print(\"Accuracy of fold \" + str(z) + \": \" + str(results[z-1]))\n",
    "\n",
    "print(\"\\n\\nAvg accuracy across folds: \" + str(results.mean()))"
   ]
  },
  {
   "cell_type": "code",
   "execution_count": null,
   "metadata": {},
   "outputs": [],
   "source": []
  }
 ],
 "metadata": {
  "kernelspec": {
   "display_name": "Python 3",
   "language": "python",
   "name": "python3"
  },
  "language_info": {
   "codemirror_mode": {
    "name": "ipython",
    "version": 3
   },
   "file_extension": ".py",
   "mimetype": "text/x-python",
   "name": "python",
   "nbconvert_exporter": "python",
   "pygments_lexer": "ipython3",
   "version": "3.6.3"
  }
 },
 "nbformat": 4,
 "nbformat_minor": 2
}
