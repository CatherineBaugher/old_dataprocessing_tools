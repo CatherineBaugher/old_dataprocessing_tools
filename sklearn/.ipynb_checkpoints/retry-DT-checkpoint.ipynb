{
 "cells": [
  {
   "cell_type": "code",
   "execution_count": 1,
   "metadata": {},
   "outputs": [
    {
     "data": {
      "text/plain": [
       "18"
      ]
     },
     "execution_count": 1,
     "metadata": {},
     "output_type": "execute_result"
    }
   ],
   "source": [
    "import matplotlib.pyplot as plt\n",
    "import numpy as np\n",
    "import pandas as pd\n",
    "from sklearn.ensemble import RandomForestClassifier\n",
    "\n",
    "#load up CSV into dataframe\n",
    "dataMatrix = pd.read_csv('../../3ormoreDATLOW.csv', index_col=0)\n",
    "dataMatrix.loc[dataMatrix['class'] == 2.0, 'class'] = -1.0\n",
    "\n",
    "len(dataMatrix.index)\n",
    "dataMatrix.shape[1]"
   ]
  },
  {
   "cell_type": "code",
   "execution_count": 2,
   "metadata": {},
   "outputs": [
    {
     "data": {
      "text/plain": [
       "array([[ 0.,  0.,  0., ...,  0.,  0.,  0.],\n",
       "       [ 1.,  0.,  0., ...,  0.,  0.,  0.],\n",
       "       [ 0.,  0.,  0., ...,  0.,  0.,  0.],\n",
       "       ..., \n",
       "       [ 0.,  0.,  0., ...,  0.,  0.,  0.],\n",
       "       [ 0.,  0.,  0., ...,  0.,  0.,  0.],\n",
       "       [ 0.,  0.,  0., ...,  0.,  0.,  0.]])"
      ]
     },
     "execution_count": 2,
     "metadata": {},
     "output_type": "execute_result"
    }
   ],
   "source": [
    "array = dataMatrix.values\n",
    "\n",
    "numcols = len(array[0]) - 1\n",
    "\n",
    "x = array[:,0:numcols]\n",
    "y = array[:,numcols]\n",
    "\n",
    "x"
   ]
  },
  {
   "cell_type": "code",
   "execution_count": 3,
   "metadata": {},
   "outputs": [
    {
     "name": "stdout",
     "output_type": "stream",
     "text": [
      "1. feature BRAF_GRCh37_7:140453136-140453136_Missense-Mutation-SNP-A-A-T_Missense-Mutation-SNP-A-T-T (0.245660)\n",
      "2. feature ACVR2A_GRCh37_2:148683686-148683693_Frame-Shift-Del-DEL-AAAAAAAA---- (0.090122)\n",
      "3. feature MSH3_GRCh37_5:79970915-79970922_Frame-Shift-Del-DEL-AAAAAAAA---- (0.078822)\n",
      "4. feature MBD4_GRCh37_3:129155548-129155557_Frame-Shift-Del-DEL-TTTTTTTTTT---- (0.073594)\n",
      "5. feature RAD50_GRCh37_5:131931452-131931460_In-Frame-Del-DEL-AAAAAAAAA---- (0.072381)\n",
      "6. feature KRAS_GRCh37_12:25398284-25398284_Missense-Mutation-SNP-C-T-T (0.070259)\n",
      "7. feature TGFBR2_GRCh37_3:30691872-30691881_Frame-Shift-Del-DEL-AAAAAAAAAA---- (0.063989)\n",
      "8. feature GRB14_GRCh37_2:165365288-165365296_In-Frame-Del-DEL-TTTTTTTTT---- (0.061385)\n",
      "9. feature PRDM2_GRCh37_1:14108749-14108757_In-Frame-Del-DEL-AAAAAAAAA---- (0.057233)\n",
      "10. feature SEC63_GRCh37_6:108214755-108214764_Frame-Shift-Del-DEL-TTTTTTTTTT---- (0.046026)\n",
      "11. feature AIM2_GRCh37_1:159032487-159032496_Frame-Shift-Del-DEL-TTTTTTTTTT---- (0.031333)\n",
      "12. feature HMMR_GRCh37_5:162917426-162917434_In-Frame-Del-DEL-AAAAAAAAA---- (0.030435)\n",
      "13. feature ATR_GRCh37_3:142274740-142274749_Frame-Shift-Del-DEL-TTTTTTTTTT---- (0.021972)\n",
      "14. feature CASP5_GRCh37_11:104878041-104878050_Frame-Shift-Del-DEL-TTTTTTTTTT---- (0.021542)\n",
      "15. feature MSH6_GRCh37_2:48030640-48030647_Frame-Shift-Del-DEL-CCCCCCCC---- (0.016106)\n",
      "16. feature TCF7L2_GRCh37_10:114925317-114925325_In-Frame-Del-DEL-AAAAAAAAA---- (0.010913)\n",
      "17. feature PIK3CA_GRCh37_3:178952085-178952085_Missense-Mutation-SNP-A-G-G (0.008228)\n"
     ]
    }
   ],
   "source": [
    "clf = RandomForestClassifier(n_estimators=1000)\n",
    "\n",
    "clf.fit(x,y)\n",
    "my_list = clf.feature_importances_\n",
    "\n",
    "indices = np.argsort(my_list)[::-1]\n",
    "\n",
    "for f in range(x.shape[1]):\n",
    "    print(\"%d. feature %s (%f)\" % (f + 1, dataMatrix.columns[indices[f]], my_list[indices[f]]))"
   ]
  },
  {
   "cell_type": "code",
   "execution_count": 4,
   "metadata": {},
   "outputs": [
    {
     "name": "stdout",
     "output_type": "stream",
     "text": [
      "Accuracy of fold 1: 0.891304347826\n",
      "Accuracy of fold 2: 0.782608695652\n",
      "Accuracy of fold 3: 0.840909090909\n",
      "Accuracy of fold 4: 0.931818181818\n",
      "Accuracy of fold 5: 0.840909090909\n",
      "\n",
      "\n",
      "Avg accuracy across folds: 0.857509881423\n"
     ]
    }
   ],
   "source": [
    "from sklearn.model_selection import cross_val_score\n",
    "\n",
    "results = cross_val_score(clf, x, y, cv=5)\n",
    "\n",
    "for z in range (1, len(results)+1):\n",
    "    print(\"Accuracy of fold \" + str(z) + \": \" + str(results[z-1]))\n",
    "\n",
    "print(\"\\n\\nAvg accuracy across folds: \" + str(results.mean()))"
   ]
  },
  {
   "cell_type": "code",
   "execution_count": null,
   "metadata": {},
   "outputs": [],
   "source": []
  }
 ],
 "metadata": {
  "kernelspec": {
   "display_name": "Python 3",
   "language": "python",
   "name": "python3"
  },
  "language_info": {
   "codemirror_mode": {
    "name": "ipython",
    "version": 3
   },
   "file_extension": ".py",
   "mimetype": "text/x-python",
   "name": "python",
   "nbconvert_exporter": "python",
   "pygments_lexer": "ipython3",
   "version": "3.6.3"
  }
 },
 "nbformat": 4,
 "nbformat_minor": 2
}
