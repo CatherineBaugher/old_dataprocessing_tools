{
 "cells": [
  {
   "cell_type": "code",
   "execution_count": 28,
   "metadata": {},
   "outputs": [
    {
     "data": {
      "image/png": "[encoded data removed]",
      "text/plain": [
       "<matplotlib.figure.Figure at 0x7fa7b0cc09e8>"
      ]
     },
     "metadata": {},
     "output_type": "display_data"
    }
   ],
   "source": [
    "import csv\n",
    "import matplotlib.pyplot as plt\n",
    "from adjustText import adjust_text\n",
    "\n",
    "#inpdat = \"../../coadreadDATLOWSPECIAL.csv\"\n",
    "inpdat = \"../../3ormoreb4combine.csv\"\n",
    "with open(inpdat,'r') as f:\n",
    "    it = csv.reader(f)\n",
    "    listit = list(it)\n",
    "\n",
    "X = []\n",
    "Y = []\n",
    "labels = []\n",
    "chart = [\"feature\",\"TP\",\"FP\",\"TN\",\"FN\"]\n",
    "for y in range(1,len(listit[0])-1):\n",
    "    labels.append(listit[0][y].split(\"_\")[0])\n",
    "    TP = 0\n",
    "    FP = 0\n",
    "    TN = 0\n",
    "    FN = 0\n",
    "    for x in range(1,len(listit)):\n",
    "        if(float(listit[x][y]) == 1.0):\n",
    "            if(float(listit[x][len(listit[0])-1]) == 1.0):\n",
    "                TP += 1\n",
    "            else:\n",
    "                FP += 1\n",
    "        else:\n",
    "            if(float(listit[x][len(listit[0])-1]) == 1.0):\n",
    "                FN += 1\n",
    "            else:\n",
    "                TN += 1\n",
    "    X.append(TP)\n",
    "    Y.append(FP)\n",
    "    chart.append([listit[0][y],TP,FP,FN,TN])\n",
    "\n",
    "plt.scatter(X,Y)\n",
    "texts = []\n",
    "for i in range(len(labels)):\n",
    "    x = X[i] + .1\n",
    "    y = Y[i] + .1\n",
    "    #plt.text(x,y,\"(\"+str(X[i])+\",\"+str(Y[i])+\")\")\n",
    "    texts.append(plt.text(x,y,labels[i]))\n",
    "adjust_text(texts)\n",
    "plt.title(\"CIMP-High vs. non-CIMP-High Occurrences\")\n",
    "plt.xlabel(\"Number of positive occurrences\")\n",
    "plt.ylabel(\"Number of negative coccurrences\")\n",
    "plt.show()\n",
    "#plt.ylim(-1,20)\n",
    "#plt.xlim(-0.5,15)"
   ]
  },
  {
   "cell_type": "code",
   "execution_count": 22,
   "metadata": {
    "scrolled": false
   },
   "outputs": [
    {
     "data": {
      "text/plain": [
       "['feature',\n",
       " 'TP',\n",
       " 'FP',\n",
       " 'TN',\n",
       " 'FN',\n",
       " ['BRAF_GRCh37_7:140453136-140453136_Missense-Mutation-SNP-A-A-T_Missense-Mutation-SNP-A-T-T',\n",
       "  16,\n",
       "  4,\n",
       "  16,\n",
       "  188],\n",
       " ['GRB14_GRCh37_2:165365288-165365296_In-Frame-Del-DEL-TTTTTTTTT----',\n",
       "  7,\n",
       "  1,\n",
       "  25,\n",
       "  191],\n",
       " ['MBD4_GRCh37_3:129155548-129155557_Frame-Shift-Del-DEL-TTTTTTTTTT----',\n",
       "  6,\n",
       "  2,\n",
       "  26,\n",
       "  190],\n",
       " ['MSH6_GRCh37_2:48030640-48030647_Frame-Shift-Del-DEL-CCCCCCCC----',\n",
       "  3,\n",
       "  0,\n",
       "  29,\n",
       "  192],\n",
       " ['PRDM2_GRCh37_1:14108749-14108757_In-Frame-Del-DEL-AAAAAAAAA----',\n",
       "  5,\n",
       "  1,\n",
       "  27,\n",
       "  191],\n",
       " ['HMMR_GRCh37_5:162917426-162917434_In-Frame-Del-DEL-AAAAAAAAA----',\n",
       "  5,\n",
       "  1,\n",
       "  27,\n",
       "  191],\n",
       " ['SEC63_GRCh37_6:108214755-108214764_Frame-Shift-Del-DEL-TTTTTTTTTT----',\n",
       "  8,\n",
       "  3,\n",
       "  24,\n",
       "  189],\n",
       " ['KRAS_GRCh37_12:25398284-25398284_Missense-Mutation-SNP-C-T-T',\n",
       "  6,\n",
       "  12,\n",
       "  26,\n",
       "  180],\n",
       " ['PIK3CA_GRCh37_3:178952085-178952085_Missense-Mutation-SNP-A-G-G',\n",
       "  3,\n",
       "  2,\n",
       "  29,\n",
       "  190],\n",
       " ['RAD50_GRCh37_5:131931452-131931460_In-Frame-Del-DEL-AAAAAAAAA----',\n",
       "  6,\n",
       "  1,\n",
       "  26,\n",
       "  191],\n",
       " ['ACVR2A_GRCh37_2:148683686-148683693_Frame-Shift-Del-DEL-AAAAAAAA----',\n",
       "  12,\n",
       "  5,\n",
       "  20,\n",
       "  187],\n",
       " ['CASP5_GRCh37_11:104878041-104878050_Frame-Shift-Del-DEL-TTTTTTTTTT----',\n",
       "  3,\n",
       "  4,\n",
       "  29,\n",
       "  188],\n",
       " ['MSH3_GRCh37_5:79970915-79970922_Frame-Shift-Del-DEL-AAAAAAAA----',\n",
       "  8,\n",
       "  3,\n",
       "  24,\n",
       "  189],\n",
       " ['ATR_GRCh37_3:142274740-142274749_Frame-Shift-Del-DEL-TTTTTTTTTT----',\n",
       "  4,\n",
       "  1,\n",
       "  28,\n",
       "  191],\n",
       " ['TGFBR2_GRCh37_3:30691872-30691881_Frame-Shift-Del-DEL-AAAAAAAAAA----',\n",
       "  11,\n",
       "  6,\n",
       "  21,\n",
       "  186],\n",
       " ['AIM2_GRCh37_1:159032487-159032496_Frame-Shift-Del-DEL-TTTTTTTTTT----',\n",
       "  6,\n",
       "  4,\n",
       "  26,\n",
       "  188],\n",
       " ['TCF7L2_GRCh37_10:114925317-114925325_In-Frame-Del-DEL-AAAAAAAAA----',\n",
       "  4,\n",
       "  4,\n",
       "  28,\n",
       "  188]]"
      ]
     },
     "execution_count": 22,
     "metadata": {},
     "output_type": "execute_result"
    }
   ],
   "source": [
    "chart"
   ]
  },
  {
   "cell_type": "code",
   "execution_count": 13,
   "metadata": {},
   "outputs": [],
   "source": [
    "with open(\"./updated17chart.csv\",\"w\") as fun:\n",
    "    writer = csv.writer(fun)\n",
    "    writer.writerows(chart)"
   ]
  },
  {
   "cell_type": "code",
   "execution_count": null,
   "metadata": {},
   "outputs": [],
   "source": []
  }
 ],
 "metadata": {
  "kernelspec": {
   "display_name": "Python 3",
   "language": "python",
   "name": "python3"
  },
  "language_info": {
   "codemirror_mode": {
    "name": "ipython",
    "version": 3
   },
   "file_extension": ".py",
   "mimetype": "text/x-python",
   "name": "python",
   "nbconvert_exporter": "python",
   "pygments_lexer": "ipython3",
   "version": "3.6.3"
  }
 },
 "nbformat": 4,
 "nbformat_minor": 2
}
